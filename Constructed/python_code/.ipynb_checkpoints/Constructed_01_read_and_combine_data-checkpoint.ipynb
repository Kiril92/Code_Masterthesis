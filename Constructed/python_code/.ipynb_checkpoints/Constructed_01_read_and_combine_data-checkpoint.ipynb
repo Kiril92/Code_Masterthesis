{
 "cells": [
  {
   "cell_type": "markdown",
   "id": "c74dec1f",
   "metadata": {},
   "source": [
    "### Setup"
   ]
  },
  {
   "cell_type": "code",
   "execution_count": 1,
   "id": "45927091",
   "metadata": {},
   "outputs": [
    {
     "name": "stderr",
     "output_type": "stream",
     "text": [
      "2022-08-25 10:25:18.300631: W tensorflow/stream_executor/platform/default/dso_loader.cc:64] Could not load dynamic library 'libcudart.so.11.0'; dlerror: libcudart.so.11.0: cannot open shared object file: No such file or directory\n",
      "2022-08-25 10:25:18.300662: I tensorflow/stream_executor/cuda/cudart_stub.cc:29] Ignore above cudart dlerror if you do not have a GPU set up on your machine.\n"
     ]
    }
   ],
   "source": [
    "import numpy as np\n",
    "from numpy import shape\n",
    "\n",
    "from datetime import date\n",
    "\n",
    "import matplotlib.pyplot as plt\n",
    "\n",
    "from datetime import datetime\n",
    "from pytz import timezone\n",
    "\n",
    "# package to list files in directory\n",
    "import glob\n",
    "\n",
    "from tensorflow import reshape"
   ]
  },
  {
   "cell_type": "code",
   "execution_count": 3,
   "id": "0ebae58b",
   "metadata": {},
   "outputs": [],
   "source": [
    "%run '/home/jovyan/rna/_functions/functions.py'"
   ]
  },
  {
   "cell_type": "markdown",
   "id": "045ed5f4",
   "metadata": {},
   "source": [
    "### Load data"
   ]
  },
  {
   "cell_type": "code",
   "execution_count": 14,
   "id": "1267b1e6",
   "metadata": {},
   "outputs": [],
   "source": [
    "# Readout all files contained in the `X_images`- and `O_images`-folder \n",
    "all_X_files = glob.glob(\"/home/jovyan/rna/Constructed/data/raw_images/X_images/*\")\n",
    "all_O_files = glob.glob(\"/home/jovyan/rna/Constructed/data/raw_images/O_images/*\")"
   ]
  },
  {
   "cell_type": "code",
   "execution_count": 17,
   "id": "8875b052",
   "metadata": {},
   "outputs": [],
   "source": [
    "# Helperfunction to load in the imagefiles\n",
    "def read_png_image(filepath):\n",
    "    return np.mean(plt.imread(filepath), axis = 2)"
   ]
  },
  {
   "cell_type": "code",
   "execution_count": 21,
   "id": "561628dc",
   "metadata": {},
   "outputs": [],
   "source": [
    "# Load all X- and O-images\n",
    "X_images = list(map(read_png_image, all_X_files))\n",
    "O_images = list(map(read_png_image, all_O_files))"
   ]
  },
  {
   "cell_type": "code",
   "execution_count": 22,
   "id": "76b40c35",
   "metadata": {},
   "outputs": [],
   "source": [
    "# Reshape square matrices into rowvectors\n",
    "from tensorflow import reshape\n",
    "\n",
    "dim_X = shape(X_images)\n",
    "X_images = reshape(X_images, shape = [dim_X[0], dim_X[1]*dim_X[2]])\n",
    "\n",
    "dim_O = shape(O_images)\n",
    "O_images = reshape(O_images, shape = [dim_O[0], dim_O[1]*dim_O[2]])"
   ]
  },
  {
   "cell_type": "code",
   "execution_count": 25,
   "id": "d366bbd8",
   "metadata": {},
   "outputs": [],
   "source": [
    "Y = np.concatenate((np.full(dim_X[0], \"X\", dtype = \"str\"), np.full(dim_O[0], \"O\", dtype = \"str\")))"
   ]
  },
  {
   "cell_type": "markdown",
   "id": "9f325a42",
   "metadata": {},
   "source": [
    "### Save images combined into one CSV"
   ]
  },
  {
   "cell_type": "code",
   "execution_count": 26,
   "id": "b25a5a9f",
   "metadata": {},
   "outputs": [],
   "source": [
    "data_combined = np.concatenate((X_images, O_images), axis = 0)"
   ]
  },
  {
   "cell_type": "code",
   "execution_count": 30,
   "id": "42648f1e",
   "metadata": {},
   "outputs": [],
   "source": [
    "folderpath_data_combined = \"/home/jovyan/rna/Constructed/data/combined_data/\"\n",
    "\n",
    "# Save data_combined\n",
    "np.savetxt(folderpath_data_combined + \"constructed_images_combined_\" + str(len(data_combined)) + \"_2022_08_25.csv\", data_combined, delimiter=\",\")\n",
    "\n",
    "# Save labels\n",
    "np.savetxt(folderpath_data_combined + \"constructed_labels_\" + str(len(data_combined)) + \"_2022_08_25.csv\", Y, delimiter=\",\", fmt = \"%s\")"
   ]
  },
  {
   "cell_type": "markdown",
   "id": "cadd7ee8",
   "metadata": {},
   "source": [
    "### Descriptive analysis"
   ]
  },
  {
   "cell_type": "code",
   "execution_count": 28,
   "id": "94934e5a",
   "metadata": {},
   "outputs": [
    {
     "name": "stdout",
     "output_type": "stream",
     "text": [
      "#X-Images: 30\n",
      "#O-Images: 30\n"
     ]
    }
   ],
   "source": [
    "print(f\"#X-Images: {len(X_images)}\")\n",
    "print(f\"#O-Images: {len(O_images)}\")"
   ]
  },
  {
   "cell_type": "code",
   "execution_count": 103,
   "id": "e0d68cbb",
   "metadata": {},
   "outputs": [
    {
     "data": {
      "image/png": "[encoded data removed]",
      "text/plain": [
       "<Figure size 1080x504 with 10 Axes>"
      ]
     },
     "metadata": {
      "needs_background": "light"
     },
     "output_type": "display_data"
    }
   ],
   "source": [
    "# Image examples\n",
    "fig, ax = plt.subplots(2,5, figsize = (15,7))\n",
    "\n",
    "for index_row in range(2):\n",
    "    for index_col in range(5):\n",
    "        if index_row == 0:\n",
    "            ax[index_row, index_col].imshow(reshape(X_images[index_col],(6,6)), cmap = \"binary\")\n",
    "        elif index_row == 1:\n",
    "            ax[index_row, index_col].imshow(reshape(O_images[index_col],(6,6)), cmap = \"binary\")"
   ]
  }
 ],
 "metadata": {
  "kernelspec": {
   "display_name": "Python 3 (ipykernel)",
   "language": "python",
   "name": "python3"
  },
  "language_info": {
   "codemirror_mode": {
    "name": "ipython",
    "version": 3
   },
   "file_extension": ".py",
   "mimetype": "text/x-python",
   "name": "python",
   "nbconvert_exporter": "python",
   "pygments_lexer": "ipython3",
   "version": "3.9.7"
  }
 },
 "nbformat": 4,
 "nbformat_minor": 5
}
