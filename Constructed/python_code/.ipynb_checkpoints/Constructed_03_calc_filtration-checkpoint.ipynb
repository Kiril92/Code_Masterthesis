{
 "cells": [
  {
   "cell_type": "code",
   "execution_count": 1,
   "id": "c6acfef0",
   "metadata": {},
   "outputs": [],
   "source": [
    "import numpy as np\n",
    "from numpy import shape\n",
    "\n",
    "import pandas as pd\n",
    "\n",
    "from datetime import date\n",
    "\n",
    "import matplotlib.pyplot as plt\n",
    "\n",
    "from datetime import datetime\n",
    "from pytz import timezone"
   ]
  },
  {
   "cell_type": "code",
   "execution_count": 85,
   "id": "2c07d080",
   "metadata": {},
   "outputs": [],
   "source": [
    "%run '/home/jovyan/rna/_functions/functions.py'"
   ]
  },
  {
   "cell_type": "markdown",
   "id": "c89b410f",
   "metadata": {},
   "source": [
    "### Import data"
   ]
  },
  {
   "cell_type": "markdown",
   "id": "9325d621",
   "metadata": {},
   "source": [
    "##### Import image data"
   ]
  },
  {
   "cell_type": "code",
   "execution_count": 4,
   "id": "a7040559",
   "metadata": {},
   "outputs": [],
   "source": [
    "filepath_data_combined = \"/home/jovyan/rna/Constructed/data/combined_data/constructed_images_combined_60_2022_08_25.csv\"\n",
    "filepath_labels = \"/home/jovyan/rna/Constructed/data/combined_data/constructed_labels_60_2022_08_25.csv\"\n",
    "\n",
    "data_combined = np.genfromtxt(filepath_data_combined, delimiter = \",\")\n",
    "data_labels = np.array(pd.read_csv(filepath_labels))"
   ]
  },
  {
   "cell_type": "markdown",
   "id": "03e05497",
   "metadata": {},
   "source": [
    "##### Import correlation matrix $\\bar{Z}$"
   ]
  },
  {
   "cell_type": "code",
   "execution_count": 7,
   "id": "fd59d1d8",
   "metadata": {},
   "outputs": [],
   "source": [
    "filepath_correlation_matrix = \"/home/jovyan/rna/Constructed/data/correlation_matrix/contructed_corr_matrix_2022-08-25.csv\"\n",
    "\n",
    "corr_matrix = np.genfromtxt(filepath_correlation_matrix,\n",
    "                            delimiter=',',\n",
    "                            skip_header = 1)"
   ]
  },
  {
   "cell_type": "markdown",
   "id": "2c5e8ed0",
   "metadata": {},
   "source": [
    "### Calculation of distancematrix $M = 1 - \\bar{Z}$"
   ]
  },
  {
   "cell_type": "code",
   "execution_count": 9,
   "id": "251cdc68",
   "metadata": {},
   "outputs": [],
   "source": [
    "M = 1 - corr_matrix"
   ]
  },
  {
   "cell_type": "markdown",
   "id": "082b0959",
   "metadata": {},
   "source": [
    "### Calculation of all filtrations and persistences"
   ]
  },
  {
   "cell_type": "code",
   "execution_count": 10,
   "id": "54f98118",
   "metadata": {},
   "outputs": [],
   "source": [
    "M_sqr = np.square(M)\n",
    "X_sqr = np.square(data_combined)"
   ]
  },
  {
   "cell_type": "code",
   "execution_count": 41,
   "id": "a408b316",
   "metadata": {},
   "outputs": [],
   "source": [
    "# index_image = 1\n",
    "t_sigma_subject = calc_t_sigma(sample_index = 1,\n",
    "                               M_sqr = M_sqr,\n",
    "                               X_sqr = X_sqr,\n",
    "                               M = M)"
   ]
  },
  {
   "cell_type": "code",
   "execution_count": 24,
   "id": "8d85bcbf",
   "metadata": {},
   "outputs": [],
   "source": [
    "all_filtrations = []\n",
    "all_persistences = []\n",
    "\n",
    "for index_subject in range(len(data_combined)):\n",
    "    \n",
    "    # Calculate the filtration\n",
    "    t_sigma_subject = calc_t_sigma(sample_index = index_subject,\n",
    "                                   M_sqr = M_sqr,\n",
    "                                   X_sqr = X_sqr,\n",
    "                                   M = M)\n",
    "    \n",
    "    # Append filtration\n",
    "    all_filtrations.insert(index_subject, t_sigma_subject)\n",
    "    \n",
    "    # Calculate the persistence\n",
    "    persistence_subject = calc_persistence_oneperson(t_sigma_subject)\n",
    "    \n",
    "    # Append persistence\n",
    "    all_persistences.insert(index_subject, persistence_subject)"
   ]
  },
  {
   "cell_type": "markdown",
   "id": "2eb2c1ab",
   "metadata": {},
   "source": [
    "##### Saving persistences and filtrations"
   ]
  },
  {
   "cell_type": "code",
   "execution_count": 37,
   "id": "099acf84",
   "metadata": {},
   "outputs": [
    {
     "name": "stdout",
     "output_type": "stream",
     "text": [
      "Saving /home/jovyan/rna/Constructed/data/persistences/all_persistences_60_2022_08_26.pkl\n",
      "Saving /home/jovyan/rna/Constructed/data/persistences/all_filtrations_60_2022_08_26.pkl\n"
     ]
    }
   ],
   "source": [
    "save_file(file = \"/home/jovyan/rna/Constructed/data/persistences/all_persistences_\" + str(len(all_persistences)) + \"_2022_08_26.pkl\", \n",
    "          x = all_persistences)\n",
    "\n",
    "save_file(file = \"/home/jovyan/rna/Constructed/data/persistences/all_filtrations_\" + str(len(all_filtrations)) + \"_2022_08_26.pkl\", \n",
    "          x = all_filtrations)"
   ]
  },
  {
   "cell_type": "markdown",
   "id": "035b19bb",
   "metadata": {},
   "source": [
    "### Calculation of  Persistence Landscapes"
   ]
  },
  {
   "cell_type": "code",
   "execution_count": 90,
   "id": "e8c82ad9",
   "metadata": {},
   "outputs": [],
   "source": [
    "folderpath_avgPL = \"/home/jovyan/rna/Constructed/data/persistence_landscapes/\"\n",
    "\n",
    "pl_resolution = 200\n",
    "pl_num_landscapes = 10"
   ]
  },
  {
   "cell_type": "markdown",
   "id": "34640639",
   "metadata": {},
   "source": [
    "##### H0"
   ]
  },
  {
   "cell_type": "code",
   "execution_count": 91,
   "id": "f1e2c1bd",
   "metadata": {
    "scrolled": true
   },
   "outputs": [
    {
     "name": "stdout",
     "output_type": "stream",
     "text": [
      "Saving /home/jovyan/rna/Constructed/data/persistence_landscapes/PL_H0_scaledWithin_2022-09-02.pkl\n"
     ]
    }
   ],
   "source": [
    "avgPL_bucket01_H0_scaledWithin = calc_avg_PL_from_all_persistences(all_persistences = all_persistences,\n",
    "                                                                   homology = 0,\n",
    "                                                                   resolution = pl_resolution,\n",
    "                                                                   num_landscapes = pl_num_landscapes,\n",
    "                                                                   scaling = \"within_subjects\",\n",
    "                                                                   verbose = False)\n",
    "\n",
    "save_file(file = folderpath_avgPL + \"PL_H0_scaledWithin_\" + str(date.today()) + \".pkl\",\n",
    "          x = avgPL_bucket01_H0_scaledWithin)"
   ]
  },
  {
   "cell_type": "code",
   "execution_count": 92,
   "id": "2bb045fa",
   "metadata": {
    "scrolled": true
   },
   "outputs": [
    {
     "name": "stdout",
     "output_type": "stream",
     "text": [
      "Ermittle Maximum unter Persistenzen aller Probanden\n",
      "Saving /home/jovyan/rna/Constructed/data/persistence_landscapes/PL_H0_scaledBetween_2022-09-02.pkl\n"
     ]
    }
   ],
   "source": [
    "avgPL_bucket01_H0_scaledBetween = calc_avg_PL_from_all_persistences(all_persistences = all_persistences,\n",
    "                                                                    homology = 0,\n",
    "                                                                    resolution = pl_resolution,\n",
    "                                                                    num_landscapes = pl_num_landscapes,\n",
    "                                                                    scaling = \"between_subjects\",\n",
    "                                                                    verbose = False)\n",
    "\n",
    "save_file(file = folderpath_avgPL + \"PL_H0_scaledBetween_\" + str(date.today()) + \".pkl\", \n",
    "         x = avgPL_bucket01_H0_scaledBetween)"
   ]
  },
  {
   "cell_type": "code",
   "execution_count": 93,
   "id": "46698dc6",
   "metadata": {
    "scrolled": true
   },
   "outputs": [
    {
     "name": "stdout",
     "output_type": "stream",
     "text": [
      "Saving /home/jovyan/rna/Constructed/data/persistence_landscapes/PL_H0_unscaled_2022-09-02.pkl\n"
     ]
    }
   ],
   "source": [
    "avgPL_bucket01_H0_unscaled = calc_avg_PL_from_all_persistences(all_persistences = all_persistences,\n",
    "                                                               homology = 0,\n",
    "                                                               resolution = pl_resolution,\n",
    "                                                               num_landscapes = pl_num_landscapes,\n",
    "                                                               scaling = \"unscaled\",\n",
    "                                                               verbose = False)\n",
    "\n",
    "save_file(file = folderpath_avgPL + \"PL_H0_unscaled_\" + str(date.today()) + \".pkl\", \n",
    "          x = avgPL_bucket01_H0_unscaled)"
   ]
  },
  {
   "cell_type": "markdown",
   "id": "4c1675f4",
   "metadata": {},
   "source": [
    "##### H1"
   ]
  },
  {
   "cell_type": "code",
   "execution_count": 126,
   "id": "0a0ca32a",
   "metadata": {},
   "outputs": [
    {
     "name": "stdout",
     "output_type": "stream",
     "text": [
      "Saving /home/jovyan/rna/Constructed/data/persistence_landscapes/PL_H1_scaledWithin_2022-09-02.pkl\n"
     ]
    }
   ],
   "source": [
    "avgPL_bucket01_H1_scaledWithin = calc_avg_PL_from_all_persistences(all_persistences = all_persistences,\n",
    "                                                                    homology = 1,\n",
    "                                                                    resolution = pl_resolution,\n",
    "                                                                    num_landscapes = pl_num_landscapes,\n",
    "                                                                    scaling = \"within_subjects\",\n",
    "                                                                    verbose = False)\n",
    "\n",
    "save_file(file = folderpath_avgPL + \"PL_H1_scaledWithin_\" + str(date.today()) + \".pkl\",\n",
    "          x = avgPL_bucket01_H1_scaledWithin)"
   ]
  },
  {
   "cell_type": "code",
   "execution_count": 127,
   "id": "caebd716",
   "metadata": {},
   "outputs": [
    {
     "name": "stdout",
     "output_type": "stream",
     "text": [
      "Ermittle Maximum unter Persistenzen aller Probanden\n",
      "Saving /home/jovyan/rna/Constructed/data/persistence_landscapes/PL_H1_scaledBetween_2022-09-02.pkl\n"
     ]
    }
   ],
   "source": [
    "avgPL_bucket01_H1_scaledBetween = calc_avg_PL_from_all_persistences(all_persistences = all_persistences,\n",
    "                                                                    homology = 1,\n",
    "                                                                    resolution = pl_resolution,\n",
    "                                                                    num_landscapes = pl_num_landscapes,\n",
    "                                                                    scaling = \"between_subjects\",\n",
    "                                                                    verbose = False)\n",
    "\n",
    "save_file(file = folderpath_avgPL + \"PL_H1_scaledBetween_\" + str(date.today()) + \".pkl\",\n",
    "          x = avgPL_bucket01_H1_scaledBetween)"
   ]
  },
  {
   "cell_type": "code",
   "execution_count": 128,
   "id": "b5458e7c",
   "metadata": {},
   "outputs": [
    {
     "name": "stdout",
     "output_type": "stream",
     "text": [
      "Saving /home/jovyan/rna/Constructed/data/persistence_landscapes/PL_H1_unscaled_2022-09-02.pkl\n"
     ]
    }
   ],
   "source": [
    "avgPL_bucket01_H1_unscaled = calc_avg_PL_from_all_persistences(all_persistences = all_persistences,\n",
    "                                                               homology = 1,\n",
    "                                                               resolution = pl_resolution,\n",
    "                                                               num_landscapes = pl_num_landscapes,\n",
    "                                                               scaling = \"unscaled\",\n",
    "                                                               verbose = False)\n",
    "\n",
    "save_file(file = folderpath_avgPL + \"PL_H1_unscaled_\" + str(date.today()) + \".pkl\", \n",
    "          x = avgPL_bucket01_H1_unscaled)"
   ]
  },
  {
   "cell_type": "code",
   "execution_count": null,
   "id": "399a1e45",
   "metadata": {},
   "outputs": [],
   "source": []
  }
 ],
 "metadata": {
  "kernelspec": {
   "display_name": "Python 3 (ipykernel)",
   "language": "python",
   "name": "python3"
  },
  "language_info": {
   "codemirror_mode": {
    "name": "ipython",
    "version": 3
   },
   "file_extension": ".py",
   "mimetype": "text/x-python",
   "name": "python",
   "nbconvert_exporter": "python",
   "pygments_lexer": "ipython3",
   "version": "3.9.7"
  }
 },
 "nbformat": 4,
 "nbformat_minor": 5
}
