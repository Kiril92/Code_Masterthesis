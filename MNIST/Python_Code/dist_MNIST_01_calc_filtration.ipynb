{
 "cells": [
  {
   "cell_type": "code",
   "execution_count": null,
   "id": "c6acfef0",
   "metadata": {},
   "outputs": [],
   "source": [
    "import numpy as np\n",
    "from numpy import shape\n",
    "\n",
    "from datetime import date\n",
    "\n",
    "import matplotlib.pyplot as plt\n",
    "\n",
    "from datetime import datetime\n",
    "from pytz import timezone"
   ]
  },
  {
   "cell_type": "code",
   "execution_count": null,
   "id": "2c07d080",
   "metadata": {},
   "outputs": [],
   "source": [
    "%run '/home/jovyan/rna/Python_Code/functions.py'"
   ]
  },
  {
   "cell_type": "markdown",
   "id": "c89b410f",
   "metadata": {},
   "source": [
    "##### Import MNIST data"
   ]
  },
  {
   "cell_type": "code",
   "execution_count": null,
   "id": "f98aabf5",
   "metadata": {},
   "outputs": [],
   "source": [
    "# Import data from sklearn\n",
    "\n",
    "# # MNIST von sklearn mit 28x28 Pixel\n",
    "# from sklearn.datasets import fetch_openml\n",
    "\n",
    "# # Load data from https://www.openml.org/d/554\n",
    "# X_raw, y_raw = fetch_openml(\"mnist_784\", version=1, return_X_y=True, as_frame=False)"
   ]
  },
  {
   "cell_type": "code",
   "execution_count": null,
   "id": "a7040559",
   "metadata": {},
   "outputs": [],
   "source": [
    "# Import data that was saved on this system\n",
    "\n",
    "raw_data = load_file(file = \"/home/jovyan/rna/MNIST/Raw_Data/MNIST_images.pkl\")\n",
    "X_raw = raw_data[0]\n",
    "y_raw = raw_data[1]"
   ]
  },
  {
   "cell_type": "code",
   "execution_count": null,
   "id": "d79dfa5f",
   "metadata": {},
   "outputs": [],
   "source": [
    "# Filter on indices of '0' and '8'\n",
    "indices = (y_raw == '0') | (y_raw == '8')\n",
    "\n",
    "# reshape into squares\n",
    "X = X_raw[indices, :]\n",
    "y = y_raw[indices]"
   ]
  },
  {
   "cell_type": "markdown",
   "id": "03e05497",
   "metadata": {},
   "source": [
    "### Load correlation matrix $\\bar{Z}$"
   ]
  },
  {
   "cell_type": "code",
   "execution_count": null,
   "id": "fd59d1d8",
   "metadata": {},
   "outputs": [],
   "source": [
    "corr_matrix = np.genfromtxt('/home/jovyan/rna/MNIST/Distance_Correlation_Matrix/corr_matrix_500_2022-05-16.csv',\n",
    "                         delimiter=',',)[1:785, 1:785] # remove column- and rownames"
   ]
  },
  {
   "cell_type": "markdown",
   "id": "2c5e8ed0",
   "metadata": {},
   "source": [
    "### Distanzmatrix $M = 1 - \\bar{Z}$"
   ]
  },
  {
   "cell_type": "code",
   "execution_count": null,
   "id": "54f98118",
   "metadata": {},
   "outputs": [],
   "source": [
    "M = 1 - corr_matrix\n",
    "\n",
    "M_sqr = np.square(M)"
   ]
  },
  {
   "cell_type": "markdown",
   "id": "082b0959",
   "metadata": {},
   "source": [
    "### Calculation of all MNIST persistences"
   ]
  },
  {
   "cell_type": "code",
   "execution_count": null,
   "id": "16a8bb0e",
   "metadata": {},
   "outputs": [],
   "source": [
    "# number of images\n",
    "n_images = len(X)\n",
    "\n",
    "# Größe der Subsamples\n",
    "n_subsample = 150\n",
    "\n",
    "n_persistences_per_subject = 300\n",
    "\n",
    "# Folderpath where the persistences will be saved\n",
    "folderpath = \"/home/jovyan/rna/MNIST/Persistences_from_filtration_all_images//\"\n",
    "        \n",
    "#------------------------------------------------------------\n",
    "#-----------------Calculation of persistences----------------\n",
    "#------------------------------------------------------------\n",
    "\n",
    "for index_image in range(n_images):\n",
    "    \n",
    "    msg = [\"Berechnung für Bild \", index_image, \"| Uhrzeit: \", datetime.now(tz = timezone('Europe/Berlin')).strftime(\"%Y_%m_%d-%I:%M:%S_%p\")]\n",
    "    %store msg >>/home/jovyan/progress_persistences_mnist_2022_05_25.txt\n",
    "    \n",
    "    print(\"Berechnung t_sigma\")\n",
    "    t_sigma_subject = calc_t_sigma(sample_index = index_image,\n",
    "                                   M_sqr = M_sqr,\n",
    "                                   X_sqr = X_sqr,\n",
    "                                   M = M)\n",
    "    \n",
    "    persistence_subject = calc_persistence_oneperson(t_sigma_subject,\n",
    "                                                     n_subsample,\n",
    "                                                     n_persistences_per_subject)\n",
    "    \n",
    "    filepath = folderpath + \"persistences_image_\" + str(index_image).zfill(5) + \"_300_2022_05_25.pkl\"\n",
    "    save_file(filepath, persistence_subject)"
   ]
  },
  {
   "cell_type": "markdown",
   "id": "8fd09b3d",
   "metadata": {},
   "source": [
    "##### Speichern aller Persistenzen"
   ]
  },
  {
   "cell_type": "raw",
   "id": "1afca0c5",
   "metadata": {},
   "source": [
    "# for i in range(len(persistence_all_subjects)):\n",
    "for i in range(1999, 3001):\n",
    "\n",
    "    filepath = \"/home/jovyan/rna/MNIST/Persistences_from_filtration/persistences_all_subjects_\" + str(i).zfill(5) + \"_300_2022_05_18.pkl\"\n",
    "    save_file(filepath, persistence_all_subjects[i])"
   ]
  },
  {
   "cell_type": "code",
   "execution_count": null,
   "id": "a0049df9",
   "metadata": {},
   "outputs": [],
   "source": [
    "# Bessere Variante mit ausgesondertem Folderpath\n",
    "folderpath = \"/home/jovyan/rna/MNIST/Persistences_from_filtration/\"\n",
    "\n",
    "for i in range(len(persistence_all_subjects)):\n",
    "\n",
    "    filepath = folderpath + \"persistences_image\" + str(i).zfill(5) + \"_300_2022_05_18.pkl\"\n",
    "    save_file(filepath, persistence_all_subjects[i])"
   ]
  },
  {
   "cell_type": "markdown",
   "id": "76c9fce9",
   "metadata": {},
   "source": [
    "##### Einlesen der gespeicherten Persistenzen"
   ]
  },
  {
   "cell_type": "raw",
   "id": "8aa61bec",
   "metadata": {},
   "source": [
    "test = []\n",
    "\n",
    "for i in range(383):\n",
    "    filepath = \"/home/jovyan/rna/data/persistences/persistences_all_subjects_\" + str(i).zfill(5) + \"_1000_2022_02_23.pkl\"\n",
    "    \n",
    "    with open(filepath, 'rb') as f:\n",
    "        tmp = dill.load(f)\n",
    "    test.insert(i, tmp)"
   ]
  },
  {
   "cell_type": "code",
   "execution_count": null,
   "id": "e69411ce",
   "metadata": {},
   "outputs": [],
   "source": [
    "# Überarbeitete Variante mit separatem folderpath\n",
    "\n",
    "folderpath = \"/home/jovyan/rna/MNIST/Persistences_from_filtration/\"\n",
    "test = []\n",
    "\n",
    "for i in range(383):\n",
    "    filepath = folderpath + \"persistences_all_subjects_\" + str(i).zfill(5) + \"_300_2022_02_23.pkl\"\n",
    "    \n",
    "    with open(filepath, 'rb') as f:\n",
    "        tmp = dill.load(f)\n",
    "    test.insert(i, tmp)"
   ]
  },
  {
   "cell_type": "code",
   "execution_count": null,
   "id": "a5075ccd",
   "metadata": {},
   "outputs": [],
   "source": []
  }
 ],
 "metadata": {
  "kernelspec": {
   "display_name": "Python 3 (ipykernel)",
   "language": "python",
   "name": "python3"
  },
  "language_info": {
   "codemirror_mode": {
    "name": "ipython",
    "version": 3
   },
   "file_extension": ".py",
   "mimetype": "text/x-python",
   "name": "python",
   "nbconvert_exporter": "python",
   "pygments_lexer": "ipython3",
   "version": "3.9.7"
  }
 },
 "nbformat": 4,
 "nbformat_minor": 5
}
