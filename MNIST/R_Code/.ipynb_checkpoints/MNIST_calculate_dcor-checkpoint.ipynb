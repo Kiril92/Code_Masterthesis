{
 "cells": [
  {
   "cell_type": "code",
   "execution_count": 1,
   "id": "92bdfd28",
   "metadata": {},
   "outputs": [],
   "source": [
    "# Import packages\n",
    "suppressPackageStartupMessages(library(stringr))\n",
    "suppressPackageStartupMessages(library(dplyr))\n",
    "suppressPackageStartupMessages(library(tidyr))\n",
    "suppressPackageStartupMessages(library(Rfast))\n",
    "suppressPackageStartupMessages(library(Rcpp))\n",
    "suppressPackageStartupMessages(library(RcppArmadillo))"
   ]
  },
  {
   "cell_type": "code",
   "execution_count": 2,
   "id": "5ebc4ace",
   "metadata": {},
   "outputs": [],
   "source": [
    "# Read raw data\n",
    "\n",
    "filename_rawdata <- \"../raw_data/MNIST_images.csv\"\n",
    "\n",
    "MNIST_raw <- read.csv(file = filename_rawdata)"
   ]
  },
  {
   "cell_type": "code",
   "execution_count": 3,
   "id": "b85a4019",
   "metadata": {},
   "outputs": [],
   "source": [
    "# Extract '0's and '8's and split labels from images\n",
    "indices_0_8 <- which(MNIST_raw[,785] %in% c('0', '8'))\n",
    "\n",
    "X_raw <- MNIST_raw[indices_0_8, 1:784]\n",
    "y_raw <- MNIST_raw[indices_0_8, 785]"
   ]
  },
  {
   "cell_type": "code",
   "execution_count": 4,
   "id": "2d5b92f8",
   "metadata": {
    "scrolled": true
   },
   "outputs": [],
   "source": [
    "# Import compiled C-code\n",
    "sourceCpp(\"../../rna/C_Code/my_dcor.cpp\")"
   ]
  },
  {
   "cell_type": "code",
   "execution_count": 5,
   "id": "7c4aa4be",
   "metadata": {},
   "outputs": [],
   "source": [
    "# Allocate correlationsmatrix\n",
    "corr_matrix <- matrix(0,\n",
    "                      nrow = 784,\n",
    "                      ncol = 784)\n",
    "\n",
    "# Here I choose only the first 2500 entries, since the labels are iterating and the calculation size needs to be narrowed\n",
    "# Cast data from dataframe to matrix\n",
    "X <- data.matrix(X_raw[1:2500,])\n",
    "\n",
    "corr_matrix <- my_dcor(X, logfile = \"/home/jovyan/my_log.txt\")\n",
    "\n",
    "# Nan's to 0\n",
    "corr_matrix_c <- corr_matrix\n",
    "corr_matrix_c[is.na(corr_matrix_c)] <- 0"
   ]
  },
  {
   "cell_type": "code",
   "execution_count": 6,
   "id": "2ef8377b",
   "metadata": {},
   "outputs": [
    {
     "name": "stderr",
     "output_type": "stream",
     "text": [
      "Save correlationsmatrix under: /home/jovyan/rna/MNIST/Distance_Correlation_Matrix/corr_matrix_2500_2022-05-16.csv\n",
      "\n"
     ]
    }
   ],
   "source": [
    "# Save correlationsmatrix\n",
    "filename_corrmatrix <- paste0(\"../Distance_Correlation_Matrix/corr_matrix_\", \"2500\" , \"_\",\n",
    "                              Sys.Date(), \".csv\")\n",
    "\n",
    "# Sichere berechnete Matrix in .csv-Datei\n",
    "message(\"Save correlationsmatrix under: \", filename_corrmatrix)"
   ]
  },
  {
   "cell_type": "code",
   "execution_count": 7,
   "id": "b0bd11a8",
   "metadata": {},
   "outputs": [],
   "source": [
    "write.csv(x = corr_matrix_c,\n",
    "          file = filename_corrmatrix,\n",
    "          row.names = FALSE,\n",
    "#             col.names = FALSE\n",
    "           )\n",
    "\n",
    "# write.table(x = corr_matrix_c,\n",
    "#             file = filename_corrmatrix,\n",
    "# #             row.names = FALSE,\n",
    "# #             col.names = FALSE\n",
    "#            )"
   ]
  }
 ],
 "metadata": {
  "kernelspec": {
   "display_name": "R",
   "language": "R",
   "name": "ir"
  },
  "language_info": {
   "codemirror_mode": "r",
   "file_extension": ".r",
   "mimetype": "text/x-r-source",
   "name": "R",
   "pygments_lexer": "r",
   "version": "4.1.1"
  }
 },
 "nbformat": 4,
 "nbformat_minor": 5
}
