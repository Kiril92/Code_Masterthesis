{
 "cells": [
  {
   "cell_type": "code",
   "execution_count": 1,
   "id": "92bdfd28",
   "metadata": {},
   "outputs": [],
   "source": [
    "# Import packages\n",
    "suppressPackageStartupMessages(library(stringr))\n",
    "suppressPackageStartupMessages(library(dplyr))\n",
    "suppressPackageStartupMessages(library(tidyr))\n",
    "suppressPackageStartupMessages(library(Rfast))\n",
    "suppressPackageStartupMessages(library(Rcpp))\n",
    "suppressPackageStartupMessages(library(RcppArmadillo))"
   ]
  },
  {
   "cell_type": "code",
   "execution_count": 2,
   "id": "5ebc4ace",
   "metadata": {},
   "outputs": [],
   "source": [
    "# Read raw data\n",
    "filename_rawdata <- \"../data/raw_data/raw_images_and_labels.csv\"\n",
    "\n",
    "digits_raw <- read.csv(file = filename_rawdata)"
   ]
  },
  {
   "cell_type": "code",
   "execution_count": 3,
   "id": "2d5b92f8",
   "metadata": {
    "scrolled": true
   },
   "outputs": [],
   "source": [
    "# Import compiled C-code\n",
    "sourceCpp(\"../../rna/C_Code/my_dcor.cpp\")"
   ]
  },
  {
   "cell_type": "code",
   "execution_count": 6,
   "id": "7c4aa4be",
   "metadata": {},
   "outputs": [],
   "source": [
    "# Allocate correlationsmatrix\n",
    "corr_matrix <- matrix(0,\n",
    "                      nrow = 64,\n",
    "                      ncol = 64)\n",
    "\n",
    "# Cast data from dataframe to matrix\n",
    "X <- data.matrix(digits_raw)\n",
    "\n",
    "# Calculate distance correlation matrix\n",
    "corr_matrix <- my_dcor(X, logfile = \"./calc_dcor.txt\")\n",
    "\n",
    "# Nan's to 0\n",
    "corr_matrix_c <- corr_matrix\n",
    "corr_matrix_c[is.na(corr_matrix_c)] <- 0"
   ]
  },
  {
   "cell_type": "code",
   "execution_count": 11,
   "id": "2ef8377b",
   "metadata": {},
   "outputs": [
    {
     "name": "stderr",
     "output_type": "stream",
     "text": [
      "Save correlationsmatrix under: ../data/distance_correlation_matrix/corr_matrix_2022-09-16.csv\n",
      "\n"
     ]
    }
   ],
   "source": [
    "# Save correlationsmatrix\n",
    "filename_corrmatrix <- paste0(\"../data/distance_correlation_matrix/corr_matrix_\",\n",
    "                              Sys.Date(), \".csv\")\n",
    "\n",
    "# Sichere berechnete Matrix in .csv-Datei\n",
    "message(\"Save correlationsmatrix under: \", filename_corrmatrix)"
   ]
  },
  {
   "cell_type": "code",
   "execution_count": 13,
   "id": "b0bd11a8",
   "metadata": {},
   "outputs": [],
   "source": [
    "write.csv(x = corr_matrix_c,\n",
    "          file = filename_corrmatrix,\n",
    "            row.names = FALSE\n",
    "#             col.names = FALSE\n",
    "           )\n",
    "\n",
    "# write.table(x = corr_matrix_c,\n",
    "#             file = filename_corrmatrix,\n",
    "# #             row.names = FALSE,\n",
    "# #             col.names = FALSE\n",
    "#            )"
   ]
  }
 ],
 "metadata": {
  "kernelspec": {
   "display_name": "R",
   "language": "R",
   "name": "ir"
  },
  "language_info": {
   "codemirror_mode": "r",
   "file_extension": ".r",
   "mimetype": "text/x-r-source",
   "name": "R",
   "pygments_lexer": "r",
   "version": "4.1.1"
  }
 },
 "nbformat": 4,
 "nbformat_minor": 5
}
