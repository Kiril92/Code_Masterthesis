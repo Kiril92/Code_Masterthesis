{
 "cells": [
  {
   "cell_type": "code",
   "execution_count": 1,
   "id": "f28f5774",
   "metadata": {},
   "outputs": [
    {
     "name": "stderr",
     "output_type": "stream",
     "text": [
      "2022-09-16 13:56:52.063406: W tensorflow/stream_executor/platform/default/dso_loader.cc:64] Could not load dynamic library 'libcudart.so.11.0'; dlerror: libcudart.so.11.0: cannot open shared object file: No such file or directory\n",
      "2022-09-16 13:56:52.063437: I tensorflow/stream_executor/cuda/cudart_stub.cc:29] Ignore above cudart dlerror if you do not have a GPU set up on your machine.\n",
      "2022-09-16 13:56:53.045032: W tensorflow/stream_executor/platform/default/dso_loader.cc:64] Could not load dynamic library 'libcuda.so.1'; dlerror: libcuda.so.1: cannot open shared object file: No such file or directory\n",
      "2022-09-16 13:56:53.045061: W tensorflow/stream_executor/cuda/cuda_driver.cc:269] failed call to cuInit: UNKNOWN ERROR (303)\n",
      "2022-09-16 13:56:53.045079: I tensorflow/stream_executor/cuda/cuda_diagnostics.cc:156] kernel driver does not appear to be running on this host (8141ff0cdda3): /proc/driver/nvidia/version does not exist\n",
      "2022-09-16 13:56:53.045282: I tensorflow/core/platform/cpu_feature_guard.cc:142] This TensorFlow binary is optimized with oneAPI Deep Neural Network Library (oneDNN) to use the following CPU instructions in performance-critical operations:  AVX2 FMA\n",
      "To enable them in other operations, rebuild TensorFlow with the appropriate compiler flags.\n"
     ]
    }
   ],
   "source": [
    "import numpy as np\n",
    "from numpy import shape\n",
    "\n",
    "from datetime import date\n",
    "\n",
    "import random\n",
    "import math\n",
    "import dill\n",
    "import glob\n",
    "import gc\n",
    "\n",
    "import matplotlib.pyplot as plt\n",
    "\n",
    "from random import seed\n",
    "\n",
    "# Import train_test_split function\n",
    "from sklearn.model_selection import train_test_split\n",
    "\n",
    "import tensorflow as tf\n",
    "from tensorflow import device\n",
    "\n",
    "# Tensorflow soll auf CPU und nicht auf der GPU laufen\n",
    "device(\"cpu:0\")\n",
    "\n",
    "# für GPU:\n",
    "# tf.device(\"gpu:0\")\n",
    "\n",
    "from tensorflow.keras.utils import to_categorical\n",
    "from keras.layers import Dense\n",
    "from keras.models import Sequential # Documentation: https://keras.io/models/sequential/"
   ]
  },
  {
   "cell_type": "code",
   "execution_count": 2,
   "id": "f4cfebdc",
   "metadata": {},
   "outputs": [],
   "source": [
    "%run '../../_functions/functions.py'"
   ]
  },
  {
   "cell_type": "markdown",
   "id": "65a3c67a",
   "metadata": {},
   "source": [
    "### Load images"
   ]
  },
  {
   "cell_type": "code",
   "execution_count": 3,
   "id": "0875302d",
   "metadata": {},
   "outputs": [
    {
     "data": {
      "text/plain": [
       "(array([0, 8]), array([178, 174]))"
      ]
     },
     "execution_count": 3,
     "metadata": {},
     "output_type": "execute_result"
    }
   ],
   "source": [
    "# Import data that was saved on this system\n",
    "\n",
    "raw_data = load_file(file = \"../data/raw_data/raw_images_and_labels.pkl\")\n",
    "X = raw_data[0]\n",
    "y = raw_data[1]\n",
    "\n",
    "# Factorize into dichotomous variable\n",
    "Y = pd.factorize(y)[0]\n",
    "\n",
    "np.unique(y, return_counts=True)"
   ]
  },
  {
   "cell_type": "markdown",
   "id": "a0d954d8",
   "metadata": {},
   "source": [
    "### Load Persistences Landscapes"
   ]
  },
  {
   "cell_type": "code",
   "execution_count": 4,
   "id": "f0d4eecd",
   "metadata": {},
   "outputs": [],
   "source": [
    "pl_folderpath = \"../data/persistence_landscapes_averages/\"\n",
    "\n",
    "# Parameter for persistence landscapes\n",
    "pl_resolution = 250\n",
    "pl_num_landscapes = 10"
   ]
  },
  {
   "cell_type": "code",
   "execution_count": 5,
   "id": "6f815523",
   "metadata": {},
   "outputs": [],
   "source": [
    "avgPL_bucket01_H0_scaledWithin = load_file(file = glob.glob(pl_folderpath + \"avgPL_bucket01_H0_scaledWithin*.pkl\")[-1])\n",
    "avgPL_bucket01_H1_scaledWithin = load_file(file = glob.glob(pl_folderpath + \"avgPL_bucket01_H1_scaledWithin*.pkl\")[-1])\n",
    "bucket01_H0_scaledWithin_rs = tf.reshape(avgPL_bucket01_H0_scaledWithin, [352, pl_num_landscapes, pl_resolution, 1])\n",
    "bucket01_H1_scaledWithin_rs = tf.reshape(avgPL_bucket01_H1_scaledWithin, [352, pl_num_landscapes, pl_resolution, 1])\n",
    "\n",
    "X_b01_scaledWithin_cnn = tf.concat(axis=3, values = [bucket01_H0_scaledWithin_rs, bucket01_H1_scaledWithin_rs]).numpy()\n",
    "\n",
    "\n",
    "avgPL_bucket01_H0_scaledBetween = load_file(file = glob.glob(pl_folderpath + \"avgPL_bucket01_H0_scaledBetween*.pkl\")[-1])\n",
    "avgPL_bucket01_H1_scaledBetween = load_file(file = glob.glob(pl_folderpath + \"avgPL_bucket01_H1_scaledBetween*.pkl\")[-1])\n",
    "bucket01_H0_scaledBetween_rs = tf.reshape(avgPL_bucket01_H0_scaledBetween, [352, pl_num_landscapes, pl_resolution, 1])\n",
    "bucket01_H1_scaledBetween_rs = tf.reshape(avgPL_bucket01_H1_scaledBetween, [352, pl_num_landscapes, pl_resolution, 1])\n",
    "\n",
    "X_b01_scaledBetween_cnn = tf.concat(axis=3, values = [bucket01_H0_scaledBetween_rs, bucket01_H1_scaledBetween_rs]).numpy()\n",
    "\n",
    "\n",
    "avgPL_bucket01_H0_unscaled = load_file(file = glob.glob(pl_folderpath + \"avgPL_bucket01_H0_unscaled*.pkl\")[-1])\n",
    "avgPL_bucket01_H1_unscaled = load_file(file = glob.glob(pl_folderpath + \"avgPL_bucket01_H1_unscaled*.pkl\")[-1])\n",
    "bucket01_H0_unscaled_rs = tf.reshape(avgPL_bucket01_H0_unscaled, [352, pl_num_landscapes, pl_resolution, 1])\n",
    "bucket01_H1_unscaled_rs = tf.reshape(avgPL_bucket01_H1_unscaled, [352, pl_num_landscapes, pl_resolution, 1])\n",
    "\n",
    "X_b01_unscaled_cnn = tf.concat(axis=3, values = [bucket01_H0_unscaled_rs, bucket01_H1_unscaled_rs]).numpy()"
   ]
  },
  {
   "cell_type": "markdown",
   "id": "4ee6015a",
   "metadata": {},
   "source": [
    "### Train-Test-Splits"
   ]
  },
  {
   "cell_type": "code",
   "execution_count": 6,
   "id": "f48e1adc",
   "metadata": {},
   "outputs": [],
   "source": [
    "seed(999)\n",
    "X_cnn_b01_scaledBetween_train, X_cnn_b01_scaledBetween_test, y_cnn_b01_scaledBetween_train, y_cnn_b01_scaledBetween_test = train_test_split(X_b01_scaledBetween_cnn, \n",
    "                                                                                                                                            Y, \n",
    "                                                                                                                                            test_size = 0.2)\n",
    "\n",
    "seed(999)\n",
    "X_cnn_b01_scaledWithin_train, X_cnn_b01_scaledWithin_test, y_cnn_b01_scaledWithin_train, y_cnn_b01_scaledWithin_test = train_test_split(X_b01_scaledWithin_cnn,\n",
    "                                                                                                                                        Y, \n",
    "                                                                                                                                        test_size = 0.2)\n",
    "\n",
    "seed(999)\n",
    "X_cnn_b01_unscaled_train, X_cnn_b01_unscaled_test, y_cnn_b01_unscaled_train, y_cnn_b01_unscaled_test = train_test_split(X_b01_unscaled_cnn, \n",
    "                                                                                                                        Y, \n",
    "                                                                                                                        test_size = 0.2)"
   ]
  },
  {
   "cell_type": "code",
   "execution_count": 9,
   "id": "908edd5d",
   "metadata": {},
   "outputs": [],
   "source": [
    "# Rawdata\n",
    "X_rs = tf.reshape(X, [352, 8, 8, 1])\n",
    "\n",
    "# Train-Test-Split raw images\n",
    "seed(999)\n",
    "X_raw_train, X_raw_test, y_raw_train, y_raw_test = train_test_split(X_rs.numpy(),\n",
    "                                                                    Y,\n",
    "                                                                    test_size = 0.3)"
   ]
  },
  {
   "cell_type": "markdown",
   "id": "7a9f34a2",
   "metadata": {},
   "source": [
    "# Convolutional Neural Networks on Raw Data"
   ]
  },
  {
   "cell_type": "code",
   "execution_count": 10,
   "id": "b27f3f67",
   "metadata": {},
   "outputs": [
    {
     "data": {
      "text/plain": [
       "352"
      ]
     },
     "execution_count": 10,
     "metadata": {},
     "output_type": "execute_result"
    }
   ],
   "source": [
    "no_relevant_samples = len(avgPL_bucket01_H1_unscaled)\n",
    "no_relevant_samples"
   ]
  },
  {
   "cell_type": "markdown",
   "id": "73187048",
   "metadata": {},
   "source": [
    "### CNN Models for raw data"
   ]
  },
  {
   "cell_type": "code",
   "execution_count": 11,
   "id": "cb651131",
   "metadata": {},
   "outputs": [],
   "source": [
    "# Folderpath to store the results\n",
    "folderpath_results = \"../results/\""
   ]
  },
  {
   "cell_type": "code",
   "execution_count": 24,
   "id": "8628ac8e",
   "metadata": {},
   "outputs": [],
   "source": [
    "def CNN_model_paper_raw():\n",
    "    \n",
    "    model_cnn = Sequential()\n",
    "\n",
    "    model_cnn.add(Conv2D(64,\n",
    "                        kernel_size=3, \n",
    "                        activation='elu', \n",
    "                        input_shape=(8, 8, 1)\n",
    "                       )\n",
    "                )\n",
    "    model_cnn.add(layers.MaxPool2D((2,2)))\n",
    "    \n",
    "#     model_cnn.add(Conv2D(64, kernel_size=3, activation='elu'))\n",
    "#     model_cnn.add(layers.MaxPool2D((2, 2)))\n",
    "    \n",
    "    model_cnn.add(Flatten())\n",
    "    model_cnn.add(Dense(32, activation='elu'))\n",
    "    \n",
    "    model_cnn.add(Flatten())\n",
    "    model_cnn.add(Dense(1, activation='softmax'))\n",
    "        \n",
    "    return model_cnn\n",
    "\n",
    "def CNN_model_paper2_raw():\n",
    "    \n",
    "    model_cnn = Sequential()\n",
    "\n",
    "    model_cnn.add(Conv2D(64,\n",
    "                        kernel_size=3, \n",
    "                        activation='elu', \n",
    "                        input_shape=(8, 8, 1),\n",
    "                        padding='same'\n",
    "                       )\n",
    "                )\n",
    "    model_cnn.add(layers.MaxPool2D((2)))\n",
    "    \n",
    "    model_cnn.add(Conv2D(64, kernel_size=3, activation='elu'))\n",
    "    model_cnn.add(layers.MaxPool2D((2)))\n",
    "    \n",
    "    model_cnn.add(Flatten())\n",
    "    model_cnn.add(Dense(32, activation='elu'))\n",
    "    \n",
    "    model_cnn.add(Flatten())\n",
    "    model_cnn.add(Dense(1, activation='sigmoid'))\n",
    "        \n",
    "    return model_cnn\n",
    "\n",
    "def CNN_model_paper_withDropout_raw():\n",
    "    \n",
    "    model_cnn = Sequential()\n",
    "\n",
    "    model_cnn.add(Conv2D(64,\n",
    "                        kernel_size=3, \n",
    "                        activation='elu', \n",
    "                        input_shape=(8, 8, 1),\n",
    "                        padding='same'\n",
    "                       )\n",
    "                )\n",
    "    model_cnn.add(layers.MaxPool2D((2)))\n",
    "    \n",
    "    model_cnn.add(Dropout(0.25))\n",
    "    \n",
    "    model_cnn.add(Conv2D(64, kernel_size=3, activation='elu'))\n",
    "    model_cnn.add(layers.MaxPool2D((2)))\n",
    "    \n",
    "    model_cnn.add(Flatten())\n",
    "    model_cnn.add(Dense(16, activation='elu'))\n",
    "    \n",
    "    model_cnn.add(Flatten())\n",
    "    model_cnn.add(Dense(1, activation='softmax'))\n",
    "        \n",
    "    return model_cnn\n",
    "\n",
    "def simple_CNN_model_1_raw():\n",
    "    \n",
    "    model_cnn = Sequential()\n",
    "    \n",
    "    model_cnn.add(Conv2D(32,\n",
    "                         kernel_size=3, \n",
    "                         activation='elu', \n",
    "                         input_shape=(8, 8, 1),\n",
    "                         padding='same'\n",
    "                        )\n",
    "                 )\n",
    "    \n",
    "    model_cnn.add(Flatten())\n",
    "    \n",
    "    model_cnn.add(Dense(16, activation='elu'))\n",
    "    \n",
    "    model_cnn.add(Flatten())\n",
    "    \n",
    "    model_cnn.add(Dense(1, activation='softmax'))\n",
    "    \n",
    "    return model_cnn\n",
    "\n",
    "def simple_CNN_model_1_sigmoid_raw():\n",
    "    \n",
    "    model_cnn = Sequential()\n",
    "    \n",
    "    model_cnn.add(Conv2D(32,\n",
    "                         kernel_size=3, \n",
    "                         activation='elu', \n",
    "                         input_shape=(8, 8, 1),\n",
    "                         padding='same'\n",
    "                        )\n",
    "                 )\n",
    "    \n",
    "    model_cnn.add(Flatten())\n",
    "    \n",
    "    model_cnn.add(Dense(16, activation='elu'))\n",
    "    \n",
    "    model_cnn.add(Flatten())\n",
    "    \n",
    "    model_cnn.add(Dense(1, activation='sigmoid'))\n",
    "    \n",
    "    return model_cnn\n",
    "\n",
    "def cnn_model_succeeded_raw():\n",
    "\n",
    "    model = Sequential()\n",
    "    \n",
    "    # add model layers\n",
    "    model.add(Conv2D(64,\n",
    "                     kernel_size=3,\n",
    "                     activation='elu',\n",
    "                     input_shape=(8, 8, 1),\n",
    "                     padding='same'\n",
    "                    )\n",
    "             )\n",
    "    \n",
    "    model.add(layers.MaxPool2D((2)))\n",
    "    model.add(Flatten())\n",
    "    model.add(Dense(32, activation='elu'))\n",
    "    model.add(Dense(1, activation='sigmoid'))\n",
    "    \n",
    "    return model"
   ]
  },
  {
   "cell_type": "code",
   "execution_count": 25,
   "id": "c4527283",
   "metadata": {},
   "outputs": [],
   "source": [
    "# Hyperparameters for gridsearch\n",
    "cnn_raw_models = [CNN_model_paper_raw, CNN_model_paper2_raw, simple_CNN_model_1_raw, simple_CNN_model_1_sigmoid_raw, cnn_model_succeeded_raw]\n",
    "cnn_raw_learning_rates = [1e-3, 1e-4, 1e-5, 1e-6, 1e-7]\n",
    "cnn_raw_validation_splits = [0.33, None]\n",
    "cnn_raw_epochs = [1, 3, 5, 10, 20, 50, 100]"
   ]
  },
  {
   "cell_type": "code",
   "execution_count": 26,
   "id": "e66d22b4",
   "metadata": {},
   "outputs": [],
   "source": [
    "grid_cnn_raw = create_modelgrid(models = cnn_raw_models,\n",
    "                                learning_rates = cnn_raw_learning_rates,\n",
    "                                validation_splits = cnn_raw_validation_splits,\n",
    "                                epochs = cnn_raw_epochs)"
   ]
  },
  {
   "cell_type": "code",
   "execution_count": null,
   "id": "d2c4abe6",
   "metadata": {
    "scrolled": true
   },
   "outputs": [
    {
     "name": "stdout",
     "output_type": "stream",
     "text": [
      "Training model 1 of 350\n",
      "Training model 2 of 350\n",
      "Training model 3 of 350\n",
      "Training model 4 of 350\n",
      "Training model 5 of 350\n",
      "Training model 6 of 350\n",
      "Training model 7 of 350\n",
      "Training model 8 of 350\n",
      "Training model 9 of 350\n",
      "Training model 10 of 350\n",
      "Training model 11 of 350\n",
      "Training model 12 of 350\n",
      "Training model 13 of 350\n",
      "Training model 14 of 350\n",
      "Training model 15 of 350\n",
      "Training model 16 of 350\n",
      "Training model 17 of 350\n",
      "Training model 18 of 350\n",
      "Training model 19 of 350\n",
      "Training model 20 of 350\n",
      "Training model 21 of 350\n",
      "Training model 22 of 350\n",
      "Training model 23 of 350\n",
      "Training model 24 of 350\n",
      "Training model 25 of 350\n",
      "Training model 26 of 350\n",
      "Training model 27 of 350\n",
      "Training model 28 of 350\n",
      "Training model 29 of 350\n",
      "Training model 30 of 350\n",
      "Training model 31 of 350\n",
      "Training model 32 of 350\n",
      "Training model 33 of 350\n",
      "Training model 34 of 350\n",
      "Training model 35 of 350\n",
      "Training model 36 of 350\n",
      "Training model 37 of 350\n",
      "Training model 38 of 350\n"
     ]
    }
   ],
   "source": [
    "results_cnn_raw = test_multiple_models(x_train = X_raw_train,\n",
    "                                       y_train = y_raw_train,\n",
    "                                       x_test = X_raw_test,\n",
    "                                       y_test = y_raw_test,\n",
    "                                       modelgrid = grid_cnn_raw)"
   ]
  },
  {
   "cell_type": "code",
   "execution_count": null,
   "id": "42944be6",
   "metadata": {},
   "outputs": [],
   "source": [
    "results_cnn_raw = results_cnn_raw.sort_values(by='accuracy', ascending=False).reset_index(drop=True)\n",
    "\n",
    "# Save results to csv\n",
    "results_cnn_raw.to_csv(folderpath_results + \"results_simple_CNN_rawdata.csv\",\n",
    "                                              encoding='utf-8',\n",
    "                                              index=False)\n",
    "\n",
    "results_cnn_raw.head(20)"
   ]
  },
  {
   "cell_type": "markdown",
   "id": "af26c9a8",
   "metadata": {},
   "source": [
    "# Convolutional Neural Networks on Persistence Landscapes"
   ]
  },
  {
   "cell_type": "code",
   "execution_count": null,
   "id": "afa49d0a",
   "metadata": {},
   "outputs": [],
   "source": [
    "def CNN_model_paper():\n",
    "    \n",
    "    model_cnn = Sequential()\n",
    "\n",
    "    model_cnn.add(Conv2D(64,\n",
    "                        kernel_size=3, \n",
    "                        activation='elu', \n",
    "                        input_shape=(10, 250, 2)\n",
    "                       )\n",
    "                )\n",
    "    model_cnn.add(layers.MaxPool2D((2)))\n",
    "    \n",
    "    model_cnn.add(Conv2D(64, kernel_size=3, activation='elu'))\n",
    "    model_cnn.add(layers.MaxPool2D((2, 2)))\n",
    "    \n",
    "#     model_cnn.add(Conv2D(64, kernel_size=3, activation='elu'))\n",
    "#     model_cnn.add(layers.MaxPool2D((2, 2)))\n",
    "    \n",
    "    model_cnn.add(Flatten())\n",
    "    model_cnn.add(Dense(32, activation='elu'))\n",
    "    \n",
    "    model_cnn.add(Flatten())\n",
    "    model_cnn.add(Dense(1, activation='softmax'))\n",
    "        \n",
    "    return model_cnn\n",
    "\n",
    "def CNN_model_paper2():\n",
    "    \n",
    "    model_cnn = Sequential()\n",
    "\n",
    "    model_cnn.add(Conv2D(64,\n",
    "                        kernel_size=3, \n",
    "                        activation='elu', \n",
    "                        input_shape=(10, 250, 2),\n",
    "                        padding='same'\n",
    "                       )\n",
    "                )\n",
    "    model_cnn.add(layers.MaxPool2D((2)))\n",
    "    \n",
    "    model_cnn.add(Conv2D(64, kernel_size=3, activation='elu'))\n",
    "    model_cnn.add(layers.MaxPool2D((2)))\n",
    "    \n",
    "    model_cnn.add(Flatten())\n",
    "    model_cnn.add(Dense(32, activation='elu'))\n",
    "    \n",
    "    model_cnn.add(Flatten())\n",
    "    model_cnn.add(Dense(1, activation='sigmoid'))\n",
    "        \n",
    "    return model_cnn\n",
    "\n",
    "def CNN_model_paper_withDropout():\n",
    "    \n",
    "    model_cnn = Sequential()\n",
    "\n",
    "    model_cnn.add(Conv2D(64,\n",
    "                        kernel_size=3, \n",
    "                        activation='elu', \n",
    "                        input_shape=(10, 250, 2),\n",
    "                        padding='same'\n",
    "                       )\n",
    "                )\n",
    "    model_cnn.add(layers.MaxPool2D((2)))\n",
    "    \n",
    "    model_cnn.add(Dropout(0.25))\n",
    "    \n",
    "    model_cnn.add(Conv2D(64, kernel_size=3, activation='elu'))\n",
    "    model_cnn.add(layers.MaxPool2D((2)))\n",
    "    \n",
    "    model_cnn.add(Flatten())\n",
    "    model_cnn.add(Dense(16, activation='elu'))\n",
    "    \n",
    "    model_cnn.add(Flatten())\n",
    "    model_cnn.add(Dense(1, activation='softmax'))\n",
    "        \n",
    "    return model_cnn\n",
    "\n",
    "def simple_CNN_model_1():\n",
    "    \n",
    "    model_cnn = Sequential()\n",
    "    \n",
    "    model_cnn.add(Conv2D(32,\n",
    "                         kernel_size=3, \n",
    "                         activation='elu', \n",
    "                         input_shape=(10, 250, 2),\n",
    "                         padding='same'\n",
    "                        )\n",
    "                 )\n",
    "    \n",
    "    model_cnn.add(Flatten())\n",
    "    \n",
    "    model_cnn.add(Dense(16, activation='elu'))\n",
    "    \n",
    "    model_cnn.add(Flatten())\n",
    "    \n",
    "    model_cnn.add(Dense(1, activation='softmax'))\n",
    "    \n",
    "    return model_cnn\n",
    "\n",
    "def simple_CNN_model_1_sigmoid():\n",
    "    \n",
    "    model_cnn = Sequential()\n",
    "    \n",
    "    model_cnn.add(Conv2D(32,\n",
    "                         kernel_size=3, \n",
    "                         activation='elu', \n",
    "                         input_shape=(10, 250, 2),\n",
    "                         padding='same'\n",
    "                        )\n",
    "                 )\n",
    "    \n",
    "    model_cnn.add(Flatten())\n",
    "    \n",
    "    model_cnn.add(Dense(16, activation='elu'))\n",
    "    \n",
    "    model_cnn.add(Flatten())\n",
    "    \n",
    "    model_cnn.add(Dense(1, activation='sigmoid'))\n",
    "    \n",
    "    return model_cnn\n",
    "\n",
    "def cnn_model_succeeded():\n",
    "\n",
    "    model = Sequential()\n",
    "    \n",
    "    # add model layers\n",
    "    model.add(Conv2D(64,\n",
    "                     kernel_size=3,\n",
    "                     activation='elu',\n",
    "                     input_shape=(10, 250, 2),\n",
    "                     padding='same'\n",
    "                    )\n",
    "             )\n",
    "    \n",
    "    model.add(layers.MaxPool2D((2)))\n",
    "    model.add(Flatten())\n",
    "    model.add(Dense(32, activation='elu'))\n",
    "    model.add(Dense(1, activation='sigmoid'))\n",
    "    \n",
    "    return model"
   ]
  },
  {
   "cell_type": "code",
   "execution_count": null,
   "id": "9aa55ba7",
   "metadata": {},
   "outputs": [],
   "source": [
    "cnn_models = [CNN_model_paper, CNN_model_paper2, CNN_model_paper_withDropout, simple_CNN_model_1, simple_CNN_model_1_sigmoid, cnn_model_succeeded]\n",
    "cnn_learning_rates = [1e-3, 1e-4, 1e-5, 1e-6, 1e-7]\n",
    "cnn_validation_splits = [0.33, None]\n",
    "cnn_epochs = [1, 3, 5, 10, 20, 50, 100]"
   ]
  },
  {
   "cell_type": "markdown",
   "id": "a466f34b",
   "metadata": {},
   "source": [
    "### Train CNN-Models on Persistence Landscapes (H1 & H0; scaledBetween)"
   ]
  },
  {
   "cell_type": "code",
   "execution_count": null,
   "id": "92a73839",
   "metadata": {},
   "outputs": [],
   "source": [
    "grid_cnn_scaledBetween = create_modelgrid(models = cnn_models,\n",
    "                                          learning_rates = cnn_learning_rates,\n",
    "                                          validation_splits = cnn_validation_splits,\n",
    "                                          epochs = cnn_epochs)"
   ]
  },
  {
   "cell_type": "code",
   "execution_count": null,
   "id": "b752ee3a",
   "metadata": {},
   "outputs": [],
   "source": [
    "results_cnn_b01_scaledBetween = test_multiple_models(x_train = X_cnn_b01_scaledBetween_train,\n",
    "                                                     y_train = y_cnn_b01_scaledBetween_train,\n",
    "                                                     x_test = X_cnn_b01_scaledBetween_test,\n",
    "                                                     y_test = y_cnn_b01_scaledBetween_test,\n",
    "                                                     modelgrid = grid_cnn_scaledBetween)"
   ]
  },
  {
   "cell_type": "code",
   "execution_count": null,
   "id": "67ce9ad0",
   "metadata": {},
   "outputs": [],
   "source": [
    "results_cnn_b01_scaledBetween = results_cnn_b01_scaledBetween.sort_values(by='accuracy', ascending=False).reset_index(drop=True)\n",
    "\n",
    "# Save results to csv\n",
    "results_cnn_b01_scaledBetween.to_csv(folderpath_results + \"results_simple_CNN_b01_scaledBetween_H_0_1.csv\",\n",
    "                                              encoding='utf-8',\n",
    "                                              index=False)\n",
    "\n",
    "results_cnn_b01_scaledBetween.head(20)"
   ]
  },
  {
   "cell_type": "markdown",
   "id": "98d8cbdb",
   "metadata": {},
   "source": [
    "### Train CNN-Models on Persistence Landscapes (H1 & H0; scaledWithin)"
   ]
  },
  {
   "cell_type": "code",
   "execution_count": null,
   "id": "3d6a1462",
   "metadata": {},
   "outputs": [],
   "source": [
    "grid_cnn_scaledWithin = create_modelgrid(models = cnn_models,\n",
    "                                         learning_rates = cnn_learning_rates,\n",
    "                                         validation_splits = cnn_validation_splits,\n",
    "                                         epochs = cnn_epochs)"
   ]
  },
  {
   "cell_type": "code",
   "execution_count": null,
   "id": "ea4ac2f2",
   "metadata": {},
   "outputs": [],
   "source": [
    "results_cnn_b01_scaledWithin = test_multiple_models(x_train = X_cnn_b01_scaledWithin_train,\n",
    "                                                    y_train = y_cnn_b01_scaledWithin_train,\n",
    "                                                    x_test = X_cnn_b01_scaledWithin_test,\n",
    "                                                    y_test = y_cnn_b01_scaledWithin_test,\n",
    "                                                    modelgrid = grid_cnn_scaledWithin)"
   ]
  },
  {
   "cell_type": "code",
   "execution_count": null,
   "id": "d5402213",
   "metadata": {},
   "outputs": [],
   "source": [
    "results_cnn_b01_scaledWithin = results_cnn_b01_scaledWithin.sort_values(by='accuracy', ascending=False).reset_index(drop=True)\n",
    "\n",
    "# Save results to csv\n",
    "results_cnn_b01_scaledWithin.to_csv(folderpath_results + \"results_simple_CNN_b01_scaledWithin_H_0_1.csv\",\n",
    "                                              encoding='utf-8',\n",
    "                                              index=False)\n",
    "\n",
    "results_cnn_b01_scaledWithin.head(20)"
   ]
  },
  {
   "cell_type": "markdown",
   "id": "7b34b62a",
   "metadata": {},
   "source": [
    "### Train CNN-Models on Persistence Landscapes (H1 & H0; unscaled)"
   ]
  },
  {
   "cell_type": "code",
   "execution_count": null,
   "id": "67775fd9",
   "metadata": {},
   "outputs": [],
   "source": [
    "grid_cnn_unscaled = create_modelgrid(models = cnn_models,\n",
    "                                     learning_rates = cnn_learning_rates,\n",
    "                                     validation_splits = cnn_validation_splits,\n",
    "                                     epochs = cnn_epochs)"
   ]
  },
  {
   "cell_type": "code",
   "execution_count": null,
   "id": "c774f3a2",
   "metadata": {},
   "outputs": [],
   "source": [
    "results_cnn_b01_unscaled = test_multiple_models(x_train = X_cnn_b01_unscaled_train,\n",
    "                                                y_train = y_cnn_b01_unscaled_train,\n",
    "                                                x_test = X_cnn_b01_unscaled_test,\n",
    "                                                y_test = y_cnn_b01_unscaled_test,\n",
    "                                                modelgrid = grid_cnn_unscaled)"
   ]
  },
  {
   "cell_type": "code",
   "execution_count": null,
   "id": "ea261216",
   "metadata": {},
   "outputs": [],
   "source": [
    "results_cnn_b01_unscaled = results_cnn_b01_unscaled.sort_values(by='accuracy', ascending=False).reset_index(drop=True)\n",
    "\n",
    "# Save results to csv\n",
    "results_cnn_b01_unscaled.to_csv(folderpath_results + \"results_simple_CNN_b01_unscaled_H_0_1.csv\",\n",
    "                                              encoding='utf-8',\n",
    "                                              index=False)\n",
    "\n",
    "results_cnn_b01_unscaled.head(20)"
   ]
  },
  {
   "cell_type": "code",
   "execution_count": null,
   "id": "b5b17d80",
   "metadata": {},
   "outputs": [],
   "source": []
  }
 ],
 "metadata": {
  "kernelspec": {
   "display_name": "Python 3 (ipykernel)",
   "language": "python",
   "name": "python3"
  },
  "language_info": {
   "codemirror_mode": {
    "name": "ipython",
    "version": 3
   },
   "file_extension": ".py",
   "mimetype": "text/x-python",
   "name": "python",
   "nbconvert_exporter": "python",
   "pygments_lexer": "ipython3",
   "version": "3.9.7"
  }
 },
 "nbformat": 4,
 "nbformat_minor": 5
}
