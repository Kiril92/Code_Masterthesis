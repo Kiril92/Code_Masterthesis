{
 "cells": [
  {
   "cell_type": "markdown",
   "id": "f9ab80f4",
   "metadata": {},
   "source": [
    "# Load shortversion of MNIST images"
   ]
  },
  {
   "cell_type": "code",
   "execution_count": 1,
   "id": "21b31c9a",
   "metadata": {},
   "outputs": [],
   "source": [
    "import numpy as np\n",
    "import matplotlib.pyplot as plt\n",
    "from sklearn import datasets"
   ]
  },
  {
   "cell_type": "code",
   "execution_count": 2,
   "id": "b1e77e81",
   "metadata": {},
   "outputs": [
    {
     "name": "stderr",
     "output_type": "stream",
     "text": [
      "2022-09-16 12:58:02.107888: W tensorflow/stream_executor/platform/default/dso_loader.cc:64] Could not load dynamic library 'libcudart.so.11.0'; dlerror: libcudart.so.11.0: cannot open shared object file: No such file or directory\n",
      "2022-09-16 12:58:02.107921: I tensorflow/stream_executor/cuda/cudart_stub.cc:29] Ignore above cudart dlerror if you do not have a GPU set up on your machine.\n"
     ]
    }
   ],
   "source": [
    "%run \"../../_functions/functions.py\""
   ]
  },
  {
   "cell_type": "markdown",
   "id": "f3a88965",
   "metadata": {},
   "source": [
    "### Load digits dataset"
   ]
  },
  {
   "cell_type": "code",
   "execution_count": 11,
   "id": "21a6015b",
   "metadata": {},
   "outputs": [],
   "source": [
    "# Load raw data\n",
    "digits = datasets.load_digits()\n",
    "\n",
    "# Select 0's and 8's\n",
    "indices = (digits.target == 0) | (digits.target == 8)\n",
    "y = digits.target[indices]\n",
    "X = digits.data[indices].reshape([sum(indices), 8, 8])"
   ]
  },
  {
   "cell_type": "markdown",
   "id": "722df3a8",
   "metadata": {},
   "source": [
    "### Save images and labels to .pkl"
   ]
  },
  {
   "cell_type": "code",
   "execution_count": null,
   "id": "5302ee99",
   "metadata": {},
   "outputs": [],
   "source": [
    "# Combine images and labels into list\n",
    "raw_data = [X, y]\n",
    "\n",
    "# Save combined data into file\n",
    "save_file(file = \"../data/raw_data/raw_images_and_labels.pkl\", x = raw_data)"
   ]
  },
  {
   "cell_type": "markdown",
   "id": "302780c1",
   "metadata": {},
   "source": [
    "### Save images to .csv"
   ]
  },
  {
   "cell_type": "code",
   "execution_count": 14,
   "id": "3e518521",
   "metadata": {},
   "outputs": [],
   "source": [
    "# Additionally save as csv to calculate the distance correlations via R\n",
    "X_flat = X.reshape([len(X), 8*8])\n",
    "\n",
    "np.savetxt(\"../data/raw_data/raw_images_and_labels.csv\", X_flat, delimiter=\",\")"
   ]
  },
  {
   "cell_type": "markdown",
   "id": "a9771628",
   "metadata": {},
   "source": [
    "### Plot examples of images"
   ]
  },
  {
   "cell_type": "code",
   "execution_count": 5,
   "id": "6bfcc517",
   "metadata": {},
   "outputs": [
    {
     "data": {
      "image/png": "[encoded data removed]",
      "text/plain": [
       "<Figure size 720x576 with 4 Axes>"
      ]
     },
     "metadata": {
      "needs_background": "light"
     },
     "output_type": "display_data"
    }
   ],
   "source": [
    "plt.figure(figsize=(10,8))\n",
    "plt.subplot(2,2,1)\n",
    "plt.imshow(X[0], cmap='gray_r')\n",
    "plt.subplot(2,2,2)\n",
    "_=plt.imshow(X[1], cmap='gray_r')\n",
    "plt.subplot(2,2,3)\n",
    "plt.imshow(X[40], cmap='gray_r')\n",
    "plt.subplot(2,2,4)\n",
    "_=plt.imshow(X[51], cmap='gray_r')"
   ]
  }
 ],
 "metadata": {
  "kernelspec": {
   "display_name": "Python 3 (ipykernel)",
   "language": "python",
   "name": "python3"
  },
  "language_info": {
   "codemirror_mode": {
    "name": "ipython",
    "version": 3
   },
   "file_extension": ".py",
   "mimetype": "text/x-python",
   "name": "python",
   "nbconvert_exporter": "python",
   "pygments_lexer": "ipython3",
   "version": "3.9.7"
  }
 },
 "nbformat": 4,
 "nbformat_minor": 5
}
