{
 "cells": [
  {
   "cell_type": "markdown",
   "metadata": {},
   "source": [
    "# <ins>Setup</ins>"
   ]
  },
  {
   "cell_type": "markdown",
   "metadata": {},
   "source": [
    "### Pakete"
   ]
  },
  {
   "cell_type": "code",
   "execution_count": 3,
   "metadata": {},
   "outputs": [],
   "source": [
    "import numpy as np\n",
    "import pandas as pd\n",
    "import gudhi as gd \n",
    "import gudhi.representations\n",
    "from pylab import *\n",
    "import seaborn as sns\n",
    "%matplotlib inline\n",
    "\n",
    "import time\n",
    "import dill\n",
    "\n",
    "# Aus Tut-simplex-trees\n",
    "from IPython.display import Image\n",
    "from os import chdir\n",
    "import matplotlib.pyplot as plt\n",
    "import matplotlib as mpl\n",
    "\n",
    "# for timestamps in filenames\n",
    "from datetime import datetime\n",
    "from pytz import timezone"
   ]
  },
  {
   "cell_type": "code",
   "execution_count": 4,
   "metadata": {},
   "outputs": [
    {
     "name": "stderr",
     "output_type": "stream",
     "text": [
      "2022-08-11 17:08:25.373174: W tensorflow/stream_executor/platform/default/dso_loader.cc:64] Could not load dynamic library 'libcudart.so.11.0'; dlerror: libcudart.so.11.0: cannot open shared object file: No such file or directory\n",
      "2022-08-11 17:08:25.373210: I tensorflow/stream_executor/cuda/cudart_stub.cc:29] Ignore above cudart dlerror if you do not have a GPU set up on your machine.\n"
     ]
    }
   ],
   "source": [
    "%run /home/jovyan/rna/_functions/functions.py"
   ]
  },
  {
   "cell_type": "markdown",
   "metadata": {},
   "source": [
    "# <ins>Einlesen aller Daten</ins>"
   ]
  },
  {
   "cell_type": "markdown",
   "metadata": {},
   "source": [
    "### Überblick der Daten\n",
    "$X$: Rohdaten *(aus .csv)* <br>\n",
    "$\\bar{Z}$: Matrix mit paarweisen distance correlation Einträgen *(aus .csv)*<br>\n",
    "$M$: $=1-\\bar{Z}$ *(Berechnung im Skript)*<br>\n",
    "$K_{s}$: filtrierter simplizialer Komplex (je Sample) *(Berechnung im Skript; je Proband eine Filtrationsmatrix)*<br>"
   ]
  },
  {
   "cell_type": "markdown",
   "metadata": {},
   "source": [
    "### Rohdaten $X$"
   ]
  },
  {
   "cell_type": "code",
   "execution_count": 7,
   "metadata": {},
   "outputs": [],
   "source": [
    "# RNASeq-Rohdaten\n",
    "path_genes_file = \"/home/jovyan/rna/rna/data/agg_gene_data/agg_gene_data_short_ALL.csv\"\n",
    "\n",
    "X_genes = pd.read_csv(path_genes_file, \n",
    "                      header = 0,\n",
    "                      index_col=0)\n",
    "\n",
    "# Metadaten zu Probanden\n",
    "path_metadata = \"/home/jovyan/rna/rna/data/agg_gene_data/agg_gene_metadata_ALL.csv\"\n",
    "X_genes_metadata = pd.read_csv(path_metadata, \n",
    "                               header = 0,\n",
    "                               engine='python')"
   ]
  },
  {
   "cell_type": "code",
   "execution_count": 8,
   "metadata": {},
   "outputs": [],
   "source": [
    "X_ids = X_genes[\"id\"]\n",
    "\n",
    "X_genes = X_genes.drop([\"DIAGNOSIS\", \"id\"], axis=1)"
   ]
  },
  {
   "cell_type": "markdown",
   "metadata": {},
   "source": [
    "### Korrelationsmatrix $\\bar{Z}$"
   ]
  },
  {
   "cell_type": "raw",
   "metadata": {},
   "source": [
    "%%time\n",
    "# Relativ hohe Laufzeit (~5 min) 20:01 - \n",
    "filepath_corr_matrix = \"/home/jovyan/rna/data/correlation_matrices/corr_matrix_19839_2021-12-15.csv\"\n",
    "\n",
    "corr_matrix = np.genfromtxt(filepath_corr_matrix, delimiter=' ')"
   ]
  },
  {
   "cell_type": "code",
   "execution_count": 9,
   "metadata": {},
   "outputs": [
    {
     "name": "stdout",
     "output_type": "stream",
     "text": [
      "CPU times: user 7 µs, sys: 4 µs, total: 11 µs\n",
      "Wall time: 23.1 µs\n",
      "Dimensionen der Rohdaten:  (538, 19839) \n",
      "Dimensionen der corr_matrix:  (19839, 19839)\n"
     ]
    }
   ],
   "source": [
    "# Korrelations in Pickle ausgelagert. Einlesen der Daten wurde von 5min auf 1sec verkürzt\n",
    "%time\n",
    "corr_matrix = load_file(\"/home/jovyan/rna/rna/data/correlation_matrices/corr_matrix_19839_2021-12-15.pkl\")\n",
    "\n",
    "print(\"Dimensionen der Rohdaten: \", shape(X_genes),\n",
    "      \"\\nDimensionen der corr_matrix: \", shape(corr_matrix))"
   ]
  },
  {
   "cell_type": "markdown",
   "metadata": {},
   "source": [
    "### Distanzmatrix $M = 1 - \\bar{Z}$"
   ]
  },
  {
   "cell_type": "code",
   "execution_count": 10,
   "metadata": {},
   "outputs": [],
   "source": [
    "M = 1 - corr_matrix"
   ]
  },
  {
   "cell_type": "markdown",
   "metadata": {},
   "source": [
    "# Berechnung aller Persistenzen"
   ]
  },
  {
   "cell_type": "code",
   "execution_count": 11,
   "metadata": {},
   "outputs": [],
   "source": [
    "# Vorbereitungen für die Berechnungen der t_sigma's (~1sec)\n",
    "M_sqr = np.square(M)\n",
    "X_sqr = np.square(X_genes)"
   ]
  },
  {
   "cell_type": "code",
   "execution_count": 23,
   "metadata": {},
   "outputs": [
    {
     "name": "stderr",
     "output_type": "stream",
     "text": [
      "/home/jovyan/rna/_functions/functions.py:73: RuntimeWarning: invalid value encountered in true_divide\n",
      "  t_sigma[i,0:i] = np.sqrt(M_sqr[i,0:i] + np.square((X_sqr[sample_index,i] - X_sqr[sample_index,0:i])/M[i,0:i]) + 2*X_sqr[sample_index,i] + 2*X_sqr[sample_index,0:i])/2\n"
     ]
    }
   ],
   "source": [
    "# Index des Probanden [0-537]\n",
    "n_subjects = shape(X_genes)[0]\n",
    "\n",
    "# Anzahl vorhandener Gene\n",
    "n_genes = shape(X_genes)[1]\n",
    "\n",
    "# Größe der Subsamples\n",
    "n_subsample = 200\n",
    "\n",
    "n_persistences_per_subject = 1000\n",
    "\n",
    "\n",
    "index_subject = 0\n",
    "\n",
    "t_sigma_subject = calc_t_sigma(sample_index = index_subject,\n",
    "                                   M_sqr = M_sqr,\n",
    "                                   X_sqr = X_sqr,\n",
    "                                   M = M)"
   ]
  },
  {
   "cell_type": "markdown",
   "metadata": {},
   "source": [
    "------------"
   ]
  },
  {
   "cell_type": "code",
   "execution_count": null,
   "metadata": {},
   "outputs": [],
   "source": [
    "# Index des Probanden [0-537]\n",
    "n_subjects = shape(X_genes)[0]\n",
    "\n",
    "# Anzahl vorhandener Gene\n",
    "n_genes = shape(X_genes)[1]\n",
    "\n",
    "# Größe der Subsamples\n",
    "n_subsample = 200\n",
    "\n",
    "n_persistences_per_subject = 1000\n",
    "\n",
    "#------------------------------------------------------------\n",
    "\n",
    "persistence_all_subjects = []\n",
    "\n",
    "for index_subject in range(n_subjects):\n",
    "    msg = [\"Berechnung für Proband \", index_subject, \"| Uhrzeit: \", datetime.now(tz = timezone('Europe/Berlin')).strftime(\"%Y_%m_%d-%I:%M:%S_%p\")]\n",
    "    %store msg >>/home/jovyan/progress_persistences_1000_2022_02_23.txt\n",
    "#     print(\"Berechnung für Proband \", index_subject)\n",
    "    \n",
    "    print(\"Berechnung t_sigma\")\n",
    "    t_sigma_subject = calc_t_sigma(sample_index = index_subject,\n",
    "                                   M_sqr = M_sqr,\n",
    "                                   X_sqr = X_sqr,\n",
    "                                   M = M)\n",
    "    \n",
    "    persistence_subject = calc_persistence_oneperson(t_sigma_subject,\n",
    "                                                     n_subsample,\n",
    "                                                     n_persistences_per_subject)\n",
    "            \n",
    "    persistence_all_subjects.insert(index_subject, persistence_subject)\n",
    "    "
   ]
  },
  {
   "cell_type": "markdown",
   "metadata": {},
   "source": [
    "##### Speichern aller Persistenzen"
   ]
  },
  {
   "cell_type": "code",
   "execution_count": null,
   "metadata": {},
   "outputs": [],
   "source": [
    "for i in range(len(persistence_all_subjects)):\n",
    "\n",
    "    filepath = \"/home/jovyan/rna/data/persistences/persistences_all_subjects_\" + str(i).zfill(3) + \"_1000_2022_02_23.pkl\"\n",
    "    save_file(filepath, persistence_all_subjects[i])"
   ]
  },
  {
   "cell_type": "markdown",
   "metadata": {},
   "source": [
    "##### Einlesen der gespeicherten Persistenzen"
   ]
  },
  {
   "cell_type": "code",
   "execution_count": 35,
   "metadata": {},
   "outputs": [],
   "source": [
    "test = []\n",
    "\n",
    "for i in range(383):\n",
    "    filepath = \"/home/jovyan/rna/data/persistences/persistences_all_subjects_\" + str(i).zfill(3) + \"_1000_2022_02_23.pkl\"\n",
    "    \n",
    "    with open(filepath, 'rb') as f:\n",
    "        tmp = dill.load(f)\n",
    "    test.insert(i, tmp)"
   ]
  },
  {
   "cell_type": "code",
   "execution_count": null,
   "metadata": {},
   "outputs": [],
   "source": []
  }
 ],
 "metadata": {
  "kernelspec": {
   "display_name": "Python 3 (ipykernel)",
   "language": "python",
   "name": "python3"
  },
  "language_info": {
   "codemirror_mode": {
    "name": "ipython",
    "version": 3
   },
   "file_extension": ".py",
   "mimetype": "text/x-python",
   "name": "python",
   "nbconvert_exporter": "python",
   "pygments_lexer": "ipython3",
   "version": "3.9.7"
  }
 },
 "nbformat": 4,
 "nbformat_minor": 2
}
