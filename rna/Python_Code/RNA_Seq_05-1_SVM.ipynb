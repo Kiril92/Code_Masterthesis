{
 "cells": [
  {
   "cell_type": "code",
   "execution_count": null,
   "metadata": {},
   "outputs": [],
   "source": [
    "import numpy as np\n",
    "from numpy import shape\n",
    "\n",
    "from datetime import date\n",
    "\n",
    "import random\n",
    "import math\n",
    "import dill\n",
    "import glob\n",
    "import gc\n",
    "\n",
    "# from tensorflow import keras\n",
    "\n",
    "import matplotlib.pyplot as plt\n",
    "\n",
    "import tensorflow as tf\n",
    "\n",
    "from random import seed\n",
    "\n",
    "# Import train_test_split function\n",
    "from sklearn.model_selection import train_test_split\n",
    "\n",
    "# Quelle: https://towardsdatascience.com/building-a-convolutional-neural-network-cnn-in-keras-329fbbadc5f5\n",
    "\n",
    "# TODO Überarbeiten, welche Funktionen benötigt werden\n",
    "import tensorflow as tf\n",
    "from tensorflow import device\n",
    "\n",
    "# Tensorflow soll auf CPU und nicht auf der GPU laufen\n",
    "device(\"cpu:0\")\n",
    "\n",
    "# für GPU:\n",
    "# tf.device(\"gpu:0\")"
   ]
  },
  {
   "cell_type": "code",
   "execution_count": 2,
   "metadata": {},
   "outputs": [],
   "source": [
    "%run '/home/jovyan/rna/_functions/functions.py'"
   ]
  },
  {
   "cell_type": "markdown",
   "metadata": {},
   "source": [
    "# RNASeq Daten"
   ]
  },
  {
   "cell_type": "code",
   "execution_count": 3,
   "metadata": {},
   "outputs": [
    {
     "data": {
      "text/plain": [
       "PD         367\n",
       "Control    171\n",
       "Name: DIAGNOSIS, dtype: int64"
      ]
     },
     "execution_count": 3,
     "metadata": {},
     "output_type": "execute_result"
    }
   ],
   "source": [
    "path_file = \"/home/jovyan/rna/rna/data/agg_gene_data/agg_gene_data_short_ALL.csv\"\n",
    "\n",
    "X_genes = pd.read_csv(\n",
    "        path_file, \n",
    "        header = 0,\n",
    "        index_col = 0\n",
    "    )\n",
    "\n",
    "X_genes = X_genes.drop(\"DIAGNOSIS\", axis=1)\n",
    "\n",
    "# Subjects metadata\n",
    "X_metadata_path = \"/home/jovyan/rna/rna/data/agg_gene_data/agg_gene_metadata_ALL.csv\"\n",
    "\n",
    "X_metadata = pd.read_csv(\n",
    "        X_metadata_path, \n",
    "        header = 0\n",
    ")\n",
    "\n",
    "X_genes = X_genes.merge(X_metadata[[\"sample\", \"DIAGNOSIS\"]], \"left\", left_on = \"id\", right_on = \"sample\")\n",
    "\n",
    "# Extract dependend variable\n",
    "Y = X_genes[\"DIAGNOSIS\"]\n",
    "Y.value_counts()"
   ]
  },
  {
   "cell_type": "code",
   "execution_count": 4,
   "metadata": {},
   "outputs": [
    {
     "name": "stdout",
     "output_type": "stream",
     "text": [
      "0 = Control\n",
      "1 = PD\n",
      "(array([0, 1]), array([171, 367]))\n"
     ]
    }
   ],
   "source": [
    "# Labels faktorisieren\n",
    "Y = pd.factorize(Y)[0] # Aus bisheriger Analyse und als integer gecasted\n",
    "\n",
    "print(\"0 = Control\\n1 = PD\")\n",
    "print(np.unique(Y, return_counts=True))\n",
    "\n",
    "X_genes = X_genes.drop([\"sample\",\"DIAGNOSIS\", \"id\"], axis = 1)"
   ]
  },
  {
   "cell_type": "markdown",
   "metadata": {},
   "source": [
    "### Load Persistence Landscapes"
   ]
  },
  {
   "cell_type": "code",
   "execution_count": 5,
   "metadata": {},
   "outputs": [],
   "source": [
    "pl_folderpath = \"/home/jovyan/rna/rna/data/persistence_landscapes_averages/\""
   ]
  },
  {
   "cell_type": "code",
   "execution_count": 6,
   "metadata": {},
   "outputs": [
    {
     "name": "stdout",
     "output_type": "stream",
     "text": [
      "/home/jovyan/rna/rna/data/persistence_landscapes_averages/avgPL_bucket01_H0_scaledWithin_2022-03-05.pkl\n",
      "/home/jovyan/rna/rna/data/persistence_landscapes_averages/avgPL_bucket01_H1_scaledWithin_2022-03-03.pkl\n",
      "/home/jovyan/rna/rna/data/persistence_landscapes_averages/avgPL_bucket01_H0_scaledBetween_2022-03-04.pkl\n",
      "/home/jovyan/rna/rna/data/persistence_landscapes_averages/avgPL_bucket01_H1_scaledBetween_2022-03-03.pkl\n",
      "/home/jovyan/rna/rna/data/persistence_landscapes_averages/avgPL_bucket01_H0_unscaled_2022-03-03.pkl\n",
      "/home/jovyan/rna/rna/data/persistence_landscapes_averages/avgPL_bucket01_H1_unscaled_2022-03-03.pkl\n"
     ]
    }
   ],
   "source": [
    "# Eingelesenen Dateien\n",
    "print(glob.glob(pl_folderpath + \"avgPL_bucket01_H0_scaledWithin*.pkl\")[-1])\n",
    "print(glob.glob(pl_folderpath + \"avgPL_bucket01_H1_scaledWithin*.pkl\")[-1])\n",
    "print(glob.glob(pl_folderpath + \"avgPL_bucket01_H0_scaledBetween*.pkl\")[-1])\n",
    "print(glob.glob(pl_folderpath + \"avgPL_bucket01_H1_scaledBetween*.pkl\")[-1])\n",
    "print(glob.glob(pl_folderpath + \"avgPL_bucket01_H0_unscaled*.pkl\")[-1])\n",
    "print(glob.glob(pl_folderpath + \"avgPL_bucket01_H1_unscaled*.pkl\")[-1])\n",
    "\n",
    "avgPL_bucket01_H0_scaledWithin = load_file(file = glob.glob(pl_folderpath + \"avgPL_bucket01_H0_scaledWithin*.pkl\")[-1])\n",
    "avgPL_bucket01_H1_scaledWithin = load_file(file = glob.glob(pl_folderpath + \"avgPL_bucket01_H1_scaledWithin*.pkl\")[-1])\n",
    "\n",
    "avgPL_bucket01_H0_scaledBetween = load_file(file = glob.glob(pl_folderpath + \"avgPL_bucket01_H0_scaledBetween*.pkl\")[-1])\n",
    "avgPL_bucket01_H1_scaledBetween = load_file(file = glob.glob(pl_folderpath + \"avgPL_bucket01_H1_scaledBetween*.pkl\")[-1])\n",
    "\n",
    "avgPL_bucket01_H0_unscaled = load_file(file = glob.glob(pl_folderpath + \"avgPL_bucket01_H0_unscaled*.pkl\")[-1])\n",
    "avgPL_bucket01_H1_unscaled = load_file(file = glob.glob(pl_folderpath + \"avgPL_bucket01_H1_unscaled*.pkl\")[-1])"
   ]
  },
  {
   "cell_type": "markdown",
   "metadata": {},
   "source": [
    "### Train-Test-Split Perisistence Landscapes"
   ]
  },
  {
   "cell_type": "code",
   "execution_count": 7,
   "metadata": {},
   "outputs": [],
   "source": [
    "# Bucket01 scaledBetween\n",
    "seed(999)\n",
    "# Train-Test-Split \n",
    "X_b01_scaledBetween_H0_train, X_b01_scaledBetween_H0_test, Y_b01_scaledBetween_H0_train, Y_b01_scaledBetween_H0_test = train_test_split(avgPL_bucket01_H0_scaledBetween,\n",
    "                                                                                                                                        Y,\n",
    "                                                                                                                                        test_size=0.2)\n",
    "\n",
    "seed(999)\n",
    "# Train-Test-Split \n",
    "X_b01_scaledBetween_H1_train, X_b01_scaledBetween_H1_test, Y_b01_scaledBetween_H1_train, Y_b01_scaledBetween_H1_test = train_test_split(avgPL_bucket01_H1_scaledBetween,\n",
    "                                                                                                                                        Y,\n",
    "                                                                                                                                        test_size=0.2)\n",
    "# Bucket01 scaledWithin\n",
    "seed(999)\n",
    "# Train-Test-Split \n",
    "X_b01_scaledWithin_H0_train, X_b01_scaledWithin_H0_test, Y_b01_scaledWithin_H0_train, Y_b01_scaledWithin_H0_test = train_test_split(avgPL_bucket01_H0_scaledWithin,\n",
    "                                                                                                                                    Y,\n",
    "                                                                                                                                    test_size=0.2)\n",
    "seed(999)\n",
    "# Train-Test-Split \n",
    "X_b01_scaledWithin_H1_train, X_b01_scaledWithin_H1_test, Y_b01_scaledWithin_H1_train, Y_b01_scaledWithin_H1_test = train_test_split(avgPL_bucket01_H1_scaledWithin,\n",
    "                                                                                                                                    Y,\n",
    "                                                                                                                                    test_size=0.2)\n",
    "\n",
    "# Bucket01 Unscaled\n",
    "seed(999)\n",
    "# Train-Test-Split \n",
    "X_b01_unscaled_H0_train, X_b01_unscaled_H0_test, Y_b01_unscaled_H0_train, Y_b01_unscaled_H0_test = train_test_split(avgPL_bucket01_H0_unscaled,\n",
    "                                                                                                                    Y,\n",
    "                                                                                                                    test_size=0.2)\n",
    "seed(999)\n",
    "# Train-Test-Split \n",
    "X_b01_unscaled_H1_train, X_b01_unscaled_H1_test, Y_b01_unscaled_H1_train, Y_b01_unscaled_H1_test = train_test_split(avgPL_bucket01_H1_unscaled,\n",
    "                                                                                                                    Y,\n",
    "                                                                                                                    test_size=0.2)\n"
   ]
  },
  {
   "cell_type": "markdown",
   "metadata": {},
   "source": [
    "### Train-Test-Split raw data"
   ]
  },
  {
   "cell_type": "code",
   "execution_count": 12,
   "metadata": {},
   "outputs": [
    {
     "name": "stdout",
     "output_type": "stream",
     "text": [
      "Anteil PD-Ausprägungen in Gesamtdaten:  0.6821561338289963\n",
      "Anteil PD-Ausprägungen in Trainingsdaten:  0.6744186046511628\n",
      "Anteil PD-Ausprägungen in Testdaten:  0.7129629629629629\n"
     ]
    }
   ],
   "source": [
    "# Setze Seed, damit der Train-Test-Split bei den Gene-Daten der Gleiche ist wie bei den PL\n",
    "seed(999)\n",
    "\n",
    "# Split dataset into training set and test set\n",
    "X_raw_train, X_raw_test, y_raw_train, y_raw_test = train_test_split(X_genes, Y, test_size=0.2)\n",
    "\n",
    "print(\"Anteil PD-Ausprägungen in Gesamtdaten: \", sum(Y)/len(Y))\n",
    "print(\"Anteil PD-Ausprägungen in Trainingsdaten: \", sum(Y_train)/len(Y_train))\n",
    "print(\"Anteil PD-Ausprägungen in Testdaten: \", sum(Y_test)/len(Y_test))"
   ]
  },
  {
   "cell_type": "markdown",
   "metadata": {},
   "source": [
    "# Machine Learning Classification"
   ]
  },
  {
   "cell_type": "markdown",
   "metadata": {},
   "source": [
    "## Support Vector Machine"
   ]
  },
  {
   "cell_type": "code",
   "execution_count": 9,
   "metadata": {},
   "outputs": [],
   "source": [
    "from sklearn.pipeline import make_pipeline\n",
    "from sklearn.svm import SVC\n",
    "from sklearn.preprocessing import StandardScaler"
   ]
  },
  {
   "cell_type": "code",
   "execution_count": 10,
   "metadata": {},
   "outputs": [],
   "source": [
    "folderpath_results = \"/home/jovyan/rna/rna/results/\""
   ]
  },
  {
   "cell_type": "markdown",
   "metadata": {},
   "source": [
    "##### SVM (raw data)"
   ]
  },
  {
   "cell_type": "code",
   "execution_count": 29,
   "metadata": {},
   "outputs": [
    {
     "name": "stdout",
     "output_type": "stream",
     "text": [
      "Accuracy SVM on raw data: 0.66666666\n",
      "Confusion-Matrix:\n",
      " [[11 29]\n",
      " [ 7 61]] \n",
      " \n",
      "True Negative:  11 \n",
      "True Positive 61 \n",
      "False Negative 7 \n",
      "False Positive 29\n",
      "\n",
      "TPR: 0.8970588235294118 \n",
      "TNR:  0.275\n",
      "\n",
      "Accuracy: 0.6666666666666666\n",
      "F1 (micro): 0.6666666666666666\n",
      "F1 (macro): 0.5757311217808817\n"
     ]
    }
   ],
   "source": [
    "# Linear - Rawdata\n",
    "clf = make_pipeline(StandardScaler(), \n",
    "                    SVC(kernel='linear')).fit(X_raw_train, y_raw_train.ravel())\n",
    "\n",
    "print(\"Accuracy SVM on raw data: \" + str(clf.score(X_raw_test, y_raw_test))[:10])\n",
    "\n",
    "evaluation(y_test = y_raw_test,\n",
    "           y_pred = clf.predict(X_raw_test),\n",
    "           filename_csv = folderpath_results + \"svm_linear_rawdata.csv\")"
   ]
  },
  {
   "cell_type": "code",
   "execution_count": 42,
   "metadata": {},
   "outputs": [
    {
     "name": "stdout",
     "output_type": "stream",
     "text": [
      "Accuracy SVM on raw data: 0.62962962\n",
      "Confusion-Matrix:\n",
      " [[ 0 40]\n",
      " [ 0 68]] \n",
      " \n",
      "True Negative:  0 \n",
      "True Positive 68 \n",
      "False Negative 0 \n",
      "False Positive 40\n",
      "\n",
      "TPR: 1.0 \n",
      "TNR:  0.0\n",
      "\n",
      "Accuracy: 0.6296296296296297\n",
      "F1 (micro): 0.6296296296296297\n",
      "F1 (macro): 0.38636363636363635\n"
     ]
    }
   ],
   "source": [
    "# RBF - Rawdata\n",
    "clf = make_pipeline(StandardScaler(), \n",
    "                    SVC(kernel='rbf')).fit(X_raw_train, y_raw_train.ravel())\n",
    "\n",
    "print(\"Accuracy SVM on raw data: \" + str(clf.score(X_raw_test, y_raw_test))[:10])\n",
    "\n",
    "evaluation(y_test = y_raw_test,\n",
    "           y_pred = clf.predict(X_raw_test),\n",
    "           filename_csv = folderpath_results + \"svm_rbf_rawdata.csv\")"
   ]
  },
  {
   "cell_type": "markdown",
   "metadata": {},
   "source": [
    "##### SVM (Persistent Landscapes  - scaledWithin)"
   ]
  },
  {
   "cell_type": "code",
   "execution_count": 19,
   "metadata": {},
   "outputs": [
    {
     "name": "stdout",
     "output_type": "stream",
     "text": [
      "Accuracy SVM on peristence landscapes (scaled within sample): 0.62037037\n",
      "Confusion-Matrix:\n",
      " [[ 5 21]\n",
      " [20 62]] \n",
      " \n",
      "True Negative:  5 \n",
      "True Positive 62 \n",
      "False Negative 20 \n",
      "False Positive 21\n",
      "\n",
      "TPR: 0.7560975609756098 \n",
      "TNR:  0.19230769230769232\n",
      "\n",
      "Accuracy: 0.6203703703703703\n",
      "F1 (micro): 0.6203703703703703\n",
      "F1 (macro): 0.47379679144385023\n"
     ]
    }
   ],
   "source": [
    "# Linear - H0 - scaledWithin\n",
    "clf_pl_h0 = make_pipeline(StandardScaler(), \n",
    "                       SVC(kernel='linear')).fit(X_b01_scaledWithin_H0_train, Y_b01_scaledWithin_H0_train)\n",
    "\n",
    "print(\"Accuracy SVM on peristence landscapes (scaled within sample): \" + str(clf_pl_h0.score(X_b01_scaledWithin_H0_test, Y_b01_scaledWithin_H0_test))[:10])\n",
    "\n",
    "evaluation(y_test = Y_b01_scaledWithin_H0_test,\n",
    "           y_pred = clf_pl_h0.predict(X_b01_scaledWithin_H0_test),\n",
    "           filename_csv = folderpath_results + \"svm_linear_H0_scaledWithin.csv\")"
   ]
  },
  {
   "cell_type": "code",
   "execution_count": 30,
   "metadata": {},
   "outputs": [
    {
     "name": "stdout",
     "output_type": "stream",
     "text": [
      "Accuracy SVM on peristence landscapes (scaled within sample): 0.53703703\n",
      "Confusion-Matrix:\n",
      " [[14 24]\n",
      " [26 44]] \n",
      " \n",
      "True Negative:  14 \n",
      "True Positive 44 \n",
      "False Negative 26 \n",
      "False Positive 24\n",
      "\n",
      "TPR: 0.6285714285714286 \n",
      "TNR:  0.3684210526315789\n",
      "\n",
      "Accuracy: 0.5370370370370371\n",
      "F1 (micro): 0.5370370370370371\n",
      "F1 (macro): 0.4983277591973244\n"
     ]
    }
   ],
   "source": [
    "# Linear - H1 - scaledWithin\n",
    "clf_pl = make_pipeline(StandardScaler(), \n",
    "                       SVC(kernel='linear')).fit(X_b01_scaledWithin_H1_train, Y_b01_scaledWithin_H1_train)\n",
    "\n",
    "print(\"Accuracy SVM on peristence landscapes (scaled within sample): \" + str(clf_pl.score(X_b01_scaledWithin_H1_test, Y_b01_scaledWithin_H1_test))[:10])\n",
    "\n",
    "evaluation(y_test = Y_b01_scaledWithin_H1_test,\n",
    "           y_pred = clf_pl.predict(X_b01_scaledWithin_H1_test),\n",
    "           filename_csv = folderpath_results + \"svm_linear_H1_scaledWithin.csv\")"
   ]
  },
  {
   "cell_type": "code",
   "execution_count": 31,
   "metadata": {},
   "outputs": [
    {
     "name": "stdout",
     "output_type": "stream",
     "text": [
      "Accuracy SVM on peristence landscapes (scaled within sample): 0.75925925\n",
      "Confusion-Matrix:\n",
      " [[ 0 26]\n",
      " [ 0 82]] \n",
      " \n",
      "True Negative:  0 \n",
      "True Positive 82 \n",
      "False Negative 0 \n",
      "False Positive 26\n",
      "\n",
      "TPR: 1.0 \n",
      "TNR:  0.0\n",
      "\n",
      "Accuracy: 0.7592592592592593\n",
      "F1 (micro): 0.7592592592592593\n",
      "F1 (macro): 0.43157894736842106\n"
     ]
    }
   ],
   "source": [
    "# RBF - H0 - scaledWithin\n",
    "clf_pl_h0 = make_pipeline(StandardScaler(), \n",
    "                       SVC(kernel='rbf')).fit(X_b01_scaledWithin_H0_train, Y_b01_scaledWithin_H0_train)\n",
    "\n",
    "print(\"Accuracy SVM on peristence landscapes (scaled within sample): \" + str(clf_pl_h0.score(X_b01_scaledWithin_H0_test, Y_b01_scaledWithin_H0_test))[:10])\n",
    "\n",
    "evaluation(y_test = Y_b01_scaledWithin_H0_test,\n",
    "           y_pred = clf_pl_h0.predict(X_b01_scaledWithin_H0_test),\n",
    "           filename_csv = folderpath_results + \"svm_rbf_H0_scaledWithin.csv\")"
   ]
  },
  {
   "cell_type": "code",
   "execution_count": 32,
   "metadata": {},
   "outputs": [
    {
     "name": "stdout",
     "output_type": "stream",
     "text": [
      "Accuracy SVM on peristence landscapes (scaled within sample): 0.64814814\n",
      "Confusion-Matrix:\n",
      " [[ 0 38]\n",
      " [ 0 70]] \n",
      " \n",
      "True Negative:  0 \n",
      "True Positive 70 \n",
      "False Negative 0 \n",
      "False Positive 38\n",
      "\n",
      "TPR: 1.0 \n",
      "TNR:  0.0\n",
      "\n",
      "Accuracy: 0.6481481481481481\n",
      "F1 (micro): 0.6481481481481481\n",
      "F1 (macro): 0.39325842696629215\n"
     ]
    }
   ],
   "source": [
    "# RBF - H1 - scaledWithin\n",
    "clf_pl_rbf = make_pipeline(StandardScaler(), \n",
    "                       SVC(kernel='rbf')).fit(X_b01_scaledWithin_H1_train, Y_b01_scaledWithin_H1_train)\n",
    "\n",
    "print(\"Accuracy SVM on peristence landscapes (scaled within sample): \" + str(clf_pl_rbf.score(X_b01_scaledWithin_H1_test, Y_b01_scaledWithin_H1_test))[:10])\n",
    "\n",
    "evaluation(y_test = Y_b01_scaledWithin_H1_test,\n",
    "           y_pred = clf_pl_rbf.predict(X_b01_scaledWithin_H1_test),\n",
    "           filename_csv = folderpath_results + \"svm_rbf_H1_scaledWithin.csv\")"
   ]
  },
  {
   "cell_type": "markdown",
   "metadata": {},
   "source": [
    "##### SVM (Persistent Landscapes - scaledBetween)"
   ]
  },
  {
   "cell_type": "code",
   "execution_count": 34,
   "metadata": {},
   "outputs": [
    {
     "name": "stdout",
     "output_type": "stream",
     "text": [
      "Accuracy SVM : 0.57407407\n",
      "Confusion-Matrix:\n",
      " [[ 0 42]\n",
      " [ 4 62]] \n",
      " \n",
      "True Negative:  0 \n",
      "True Positive 62 \n",
      "False Negative 4 \n",
      "False Positive 42\n",
      "\n",
      "TPR: 0.9393939393939394 \n",
      "TNR:  0.0\n",
      "\n",
      "Accuracy: 0.5740740740740741\n",
      "F1 (micro): 0.5740740740740741\n",
      "F1 (macro): 0.36470588235294116\n"
     ]
    }
   ],
   "source": [
    "# Linear - H0 - scaledBetween\n",
    "clf_pl = make_pipeline(StandardScaler(), \n",
    "                    SVC(kernel='linear')).fit(X_b01_scaledBetween_H0_train, Y_b01_scaledBetween_H0_train)\n",
    "\n",
    "print(\"Accuracy SVM : \" + str(clf_pl.score(X_b01_scaledBetween_H0_test, Y_b01_scaledBetween_H0_test))[:10])\n",
    "\n",
    "evaluation(y_test = Y_b01_scaledBetween_H0_test,\n",
    "           y_pred = clf_pl.predict(X_b01_scaledBetween_H0_test),\n",
    "           filename_csv = folderpath_results + \"svm_linear_H0_scaledBetween.csv\")"
   ]
  },
  {
   "cell_type": "code",
   "execution_count": 35,
   "metadata": {},
   "outputs": [
    {
     "name": "stdout",
     "output_type": "stream",
     "text": [
      "Accuracy SVM : 0.65740740\n",
      "Confusion-Matrix:\n",
      " [[11 25]\n",
      " [12 60]] \n",
      " \n",
      "True Negative:  11 \n",
      "True Positive 60 \n",
      "False Negative 12 \n",
      "False Positive 25\n",
      "\n",
      "TPR: 0.8333333333333334 \n",
      "TNR:  0.3055555555555556\n",
      "\n",
      "Accuracy: 0.6574074074074074\n",
      "F1 (micro): 0.6574074074074074\n",
      "F1 (macro): 0.5686062830616431\n"
     ]
    }
   ],
   "source": [
    "# Linear - H1 - scaledBetween\n",
    "clf_pl = make_pipeline(StandardScaler(), \n",
    "                    SVC(kernel='linear')).fit(X_b01_scaledBetween_H1_train, Y_b01_scaledBetween_H1_train)\n",
    "\n",
    "print(\"Accuracy SVM : \" + str(clf_pl.score(X_b01_scaledBetween_H1_test, Y_b01_scaledBetween_H1_test))[:10])\n",
    "\n",
    "evaluation(y_test = Y_b01_scaledBetween_H1_test,\n",
    "           y_pred = clf_pl.predict(X_b01_scaledBetween_H1_test),\n",
    "           filename_csv = folderpath_results + \"svm_linear_H1_scaledBetween.csv\")"
   ]
  },
  {
   "cell_type": "code",
   "execution_count": 36,
   "metadata": {},
   "outputs": [
    {
     "name": "stdout",
     "output_type": "stream",
     "text": [
      "Accuracy SVM : 0.61111111\n",
      "Confusion-Matrix:\n",
      " [[ 0 42]\n",
      " [ 0 66]] \n",
      " \n",
      "True Negative:  0 \n",
      "True Positive 66 \n",
      "False Negative 0 \n",
      "False Positive 42\n",
      "\n",
      "TPR: 1.0 \n",
      "TNR:  0.0\n",
      "\n",
      "Accuracy: 0.6111111111111112\n",
      "F1 (micro): 0.6111111111111112\n",
      "F1 (macro): 0.37931034482758624\n"
     ]
    }
   ],
   "source": [
    "# RBF - H0 - scaledBetween\n",
    "clf_pl = make_pipeline(StandardScaler(), \n",
    "                    SVC(kernel='rbf')).fit(X_b01_scaledBetween_H0_train, Y_b01_scaledBetween_H0_train)\n",
    "\n",
    "print(\"Accuracy SVM : \" + str(clf_pl.score(X_b01_scaledBetween_H0_test, Y_b01_scaledBetween_H0_test))[:10])\n",
    "\n",
    "evaluation(y_test = Y_b01_scaledBetween_H0_test,\n",
    "           y_pred = clf_pl.predict(X_b01_scaledBetween_H0_test),\n",
    "           filename_csv = folderpath_results + \"svm_rbf_H0_scaledBetween.csv\")"
   ]
  },
  {
   "cell_type": "code",
   "execution_count": 37,
   "metadata": {},
   "outputs": [
    {
     "name": "stdout",
     "output_type": "stream",
     "text": [
      "Accuracy SVM : 0.66666666\n",
      "Confusion-Matrix:\n",
      " [[ 0 36]\n",
      " [ 0 72]] \n",
      " \n",
      "True Negative:  0 \n",
      "True Positive 72 \n",
      "False Negative 0 \n",
      "False Positive 36\n",
      "\n",
      "TPR: 1.0 \n",
      "TNR:  0.0\n",
      "\n",
      "Accuracy: 0.6666666666666666\n",
      "F1 (micro): 0.6666666666666666\n",
      "F1 (macro): 0.4\n"
     ]
    }
   ],
   "source": [
    "# RBF - H1 - scaledBetween\n",
    "clf_pl_rbf = make_pipeline(StandardScaler(), \n",
    "                    SVC(kernel='rbf')).fit(X_b01_scaledBetween_H1_train, Y_b01_scaledBetween_H1_train)\n",
    "\n",
    "print(\"Accuracy SVM : \" + str(clf_pl_rbf.score(X_b01_scaledBetween_H1_test, Y_b01_scaledBetween_H1_test))[:10])\n",
    "\n",
    "evaluation(y_test = Y_b01_scaledBetween_H1_test,\n",
    "           y_pred = clf_pl_rbf.predict(X_b01_scaledBetween_H1_test),\n",
    "           filename_csv = folderpath_results + \"svm_rbf_H1_scaledBetween.csv\")"
   ]
  },
  {
   "cell_type": "markdown",
   "metadata": {},
   "source": [
    "##### SVM (Persistent Landscapes - unscaled)"
   ]
  },
  {
   "cell_type": "code",
   "execution_count": 38,
   "metadata": {},
   "outputs": [
    {
     "name": "stdout",
     "output_type": "stream",
     "text": [
      "Accuracy SVM : 0.56481481\n",
      "Confusion-Matrix:\n",
      " [[12 25]\n",
      " [22 49]] \n",
      " \n",
      "True Negative:  12 \n",
      "True Positive 49 \n",
      "False Negative 22 \n",
      "False Positive 25\n",
      "\n",
      "TPR: 0.6901408450704225 \n",
      "TNR:  0.32432432432432434\n",
      "\n",
      "Accuracy: 0.5648148148148148\n",
      "F1 (micro): 0.5648148148148148\n",
      "F1 (macro): 0.5069451189898009\n"
     ]
    }
   ],
   "source": [
    "# Linear - H0 - unscaled\n",
    "clf_pl = make_pipeline(StandardScaler(), \n",
    "                    SVC(kernel='linear')).fit(X_b01_unscaled_H0_train, Y_b01_unscaled_H0_train)\n",
    "\n",
    "print(\"Accuracy SVM : \" + str(clf_pl.score(X_b01_unscaled_H0_test, Y_b01_unscaled_H0_test))[:10])\n",
    "\n",
    "evaluation(y_test = Y_b01_unscaled_H0_test,\n",
    "           y_pred = clf_pl.predict(X_b01_unscaled_H0_test),\n",
    "           filename_csv = folderpath_results + \"svm_linear_H0_unscaled.csv\")"
   ]
  },
  {
   "cell_type": "code",
   "execution_count": 39,
   "metadata": {},
   "outputs": [
    {
     "name": "stdout",
     "output_type": "stream",
     "text": [
      "Accuracy SVM : 0.59259259\n",
      "Confusion-Matrix:\n",
      " [[16 15]\n",
      " [29 48]] \n",
      " \n",
      "True Negative:  16 \n",
      "True Positive 48 \n",
      "False Negative 29 \n",
      "False Positive 15\n",
      "\n",
      "TPR: 0.6233766233766234 \n",
      "TNR:  0.5161290322580645\n",
      "\n",
      "Accuracy: 0.5925925925925926\n",
      "F1 (micro): 0.5925925925925926\n",
      "F1 (macro): 0.5533834586466165\n"
     ]
    }
   ],
   "source": [
    "# Linear - H1 - unscaled\n",
    "clf_pl = make_pipeline(StandardScaler(), \n",
    "                    SVC(kernel='linear')).fit(X_b01_unscaled_H1_train, Y_b01_unscaled_H1_train)\n",
    "\n",
    "print(\"Accuracy SVM : \" + str(clf_pl.score(X_b01_unscaled_H1_test, Y_b01_unscaled_H1_test))[:10])\n",
    "\n",
    "evaluation(y_test = Y_b01_unscaled_H1_test,\n",
    "           y_pred = clf_pl.predict(X_b01_unscaled_H1_test),\n",
    "           filename_csv = folderpath_results + \"svm_linear_H1_unscaled.csv\")"
   ]
  },
  {
   "cell_type": "code",
   "execution_count": 40,
   "metadata": {},
   "outputs": [
    {
     "name": "stdout",
     "output_type": "stream",
     "text": [
      "Accuracy SVM : 0.65740740\n",
      "Confusion-Matrix:\n",
      " [[ 0 37]\n",
      " [ 0 71]] \n",
      " \n",
      "True Negative:  0 \n",
      "True Positive 71 \n",
      "False Negative 0 \n",
      "False Positive 37\n",
      "\n",
      "TPR: 1.0 \n",
      "TNR:  0.0\n",
      "\n",
      "Accuracy: 0.6574074074074074\n",
      "F1 (micro): 0.6574074074074074\n",
      "F1 (macro): 0.39664804469273746\n"
     ]
    }
   ],
   "source": [
    "# RBF - H0 - unscaled\n",
    "clf_pl = make_pipeline(StandardScaler(), \n",
    "                    SVC(kernel='rbf')).fit(X_b01_unscaled_H0_train, Y_b01_unscaled_H0_train)\n",
    "\n",
    "print(\"Accuracy SVM : \" + str(clf_pl.score(X_b01_unscaled_H0_test, Y_b01_unscaled_H0_test))[:10])\n",
    "\n",
    "evaluation(y_test = Y_b01_unscaled_H0_test,\n",
    "           y_pred = clf_pl.predict(X_b01_unscaled_H0_test),\n",
    "           filename_csv = folderpath_results + \"svm_rbf_H0_unscaled.csv\")"
   ]
  },
  {
   "cell_type": "code",
   "execution_count": 41,
   "metadata": {},
   "outputs": [
    {
     "name": "stdout",
     "output_type": "stream",
     "text": [
      "Accuracy SVM : 0.71296296\n",
      "Confusion-Matrix:\n",
      " [[ 0 31]\n",
      " [ 0 77]] \n",
      " \n",
      "True Negative:  0 \n",
      "True Positive 77 \n",
      "False Negative 0 \n",
      "False Positive 31\n",
      "\n",
      "TPR: 1.0 \n",
      "TNR:  0.0\n",
      "\n",
      "Accuracy: 0.7129629629629629\n",
      "F1 (micro): 0.7129629629629629\n",
      "F1 (macro): 0.41621621621621624\n"
     ]
    }
   ],
   "source": [
    "# RBF - H1 - unscaled\n",
    "clf_pl_rbf = make_pipeline(StandardScaler(), \n",
    "                    SVC(kernel='rbf')).fit(X_b01_unscaled_H1_train, Y_b01_unscaled_H1_train)\n",
    "\n",
    "print(\"Accuracy SVM : \" + str(clf_pl_rbf.score(X_b01_unscaled_H1_test, Y_b01_unscaled_H1_test))[:10])\n",
    "\n",
    "evaluation(y_test = Y_b01_unscaled_H1_test,\n",
    "           y_pred = clf_pl_rbf.predict(X_b01_unscaled_H1_test),\n",
    "           filename_csv = folderpath_results + \"svm_rbf_H1_unscaled.csv\")"
   ]
  },
  {
   "cell_type": "code",
   "execution_count": null,
   "metadata": {},
   "outputs": [],
   "source": []
  }
 ],
 "metadata": {
  "kernelspec": {
   "display_name": "Python 3 (ipykernel)",
   "language": "python",
   "name": "python3"
  },
  "language_info": {
   "codemirror_mode": {
    "name": "ipython",
    "version": 3
   },
   "file_extension": ".py",
   "mimetype": "text/x-python",
   "name": "python",
   "nbconvert_exporter": "python",
   "pygments_lexer": "ipython3",
   "version": "3.9.7"
  }
 },
 "nbformat": 4,
 "nbformat_minor": 2
}
