{
 "cells": [
  {
   "cell_type": "code",
   "execution_count": 1,
   "id": "92bdfd28",
   "metadata": {},
   "outputs": [],
   "source": [
    "# Setup -------------------------------------------------------------------\n",
    "# Importiere Pakete\n",
    "suppressPackageStartupMessages(library(stringr))\n",
    "suppressPackageStartupMessages(library(dplyr))\n",
    "suppressPackageStartupMessages(library(tidyr))\n",
    "suppressPackageStartupMessages(library(Rfast))\n",
    "suppressPackageStartupMessages(library(Rcpp))\n",
    "suppressPackageStartupMessages(library(RcppArmadillo))"
   ]
  },
  {
   "cell_type": "code",
   "execution_count": null,
   "id": "34e16307",
   "metadata": {},
   "outputs": [],
   "source": [
    "# Userinputs --------------------------------------------------------------\n",
    "\n",
    "filename_rawdata <- \"../data/agg_gene_data/agg_gene_data_short_ALL.csv\""
   ]
  },
  {
   "cell_type": "code",
   "execution_count": 4,
   "id": "69664efc",
   "metadata": {},
   "outputs": [],
   "source": [
    "# Lese benoetigte Daten ein -----------------------------------------------\n",
    "geneData <- read.csv(file = filename_rawdata)\n",
    "\n",
    "# Entferne Spalten mit Zeilenindizes und Sample-ID\n",
    "geneMetadata <- geneData[,c(\"id\", \"DIAGNOSIS\")]\n",
    "geneData[, c(\"X\", \"id\", \"DIAGNOSIS\")] <- NULL"
   ]
  },
  {
   "cell_type": "raw",
   "id": "68a6654d",
   "metadata": {},
   "source": [
    "head(geneMetadata)"
   ]
  },
  {
   "cell_type": "code",
   "execution_count": 5,
   "id": "ce4d5e13",
   "metadata": {},
   "outputs": [
    {
     "name": "stderr",
     "output_type": "stream",
     "text": [
      "Anzahl vorhandener Gene:\n",
      "\n"
     ]
    },
    {
     "data": {
      "text/html": [
       "19839"
      ],
      "text/latex": [
       "19839"
      ],
      "text/markdown": [
       "19839"
      ],
      "text/plain": [
       "[1] 19839"
      ]
     },
     "metadata": {},
     "output_type": "display_data"
    }
   ],
   "source": [
    "message(\"Anzahl vorhandener Gene:\")\n",
    "(n_correlation_rows <- ncol(geneData))"
   ]
  },
  {
   "cell_type": "code",
   "execution_count": 2,
   "id": "2d5b92f8",
   "metadata": {},
   "outputs": [],
   "source": [
    "# Importiere kompilierten C-Code\n",
    "sourceCpp(\"../C_Code/my_dcor.cpp\")"
   ]
  },
  {
   "cell_type": "code",
   "execution_count": null,
   "id": "7c4aa4be",
   "metadata": {},
   "outputs": [],
   "source": [
    "# Allokiere Korrelationsmatrix\n",
    "corr_matrix <- matrix(0,\n",
    "                      nrow = n_correlation_rows,\n",
    "                      ncol = n_correlation_rows)\n",
    "\n",
    "# Wandel Daten vom Dataframe in eine Matrix \n",
    "X <- data.matrix(geneData)\n",
    "\n",
    "corr_matrix_c <- my_dcor(X, logfile = \"/home/jovyan/my_log.txt\") # Fix path to log-file!"
   ]
  },
  {
   "cell_type": "code",
   "execution_count": 14,
   "id": "b0bd11a8",
   "metadata": {},
   "outputs": [
    {
     "name": "stderr",
     "output_type": "stream",
     "text": [
      "Sichere Korrelationsmatrix unter: /home/jovyan/rna/data/correlation_matrices/corr_matrix_19839_2021-12-15.csv\n",
      "\n"
     ]
    }
   ],
   "source": [
    "# Sicherung der Korrelationsmatrix ----------------------------------------\n",
    "\n",
    "# Dateiname im Format \"corr_matrix_1000_2021-11-17.csv\"\n",
    "filename_corrmatrix <- paste0(\"../data/correlation_matrices/corr_matrix_\",\n",
    "                              n_correlation_rows, \"_\",\n",
    "                              Sys.Date(), \".csv\")\n",
    "                              \n",
    "filename_metadata <- paste0(\"../data/correlation_matrices/corr_matrix_\",\n",
    "                              n_correlation_rows, \"_\",\n",
    "                              Sys.Date(), \"metadata.csv\")\n",
    "\n",
    "# Sichere berechnete Matrix in .csv-Datei\n",
    "message(\"Sichere Korrelationsmatrix unter: \", filename_corrmatrix)\n",
    "write.table(corr_matrix_c,\n",
    "            file = filename_corrmatrix,\n",
    "            row.names = FALSE,\n",
    "            col.names = FALSE)\n",
    "            \n",
    "write.table(geneMetadata,\n",
    "            file = filename_metadata,\n",
    "            row.names = FALSE,\n",
    "            col.names = FALSE)"
   ]
  }
 ],
 "metadata": {
  "kernelspec": {
   "display_name": "R",
   "language": "R",
   "name": "ir"
  },
  "language_info": {
   "codemirror_mode": "r",
   "file_extension": ".r",
   "mimetype": "text/x-r-source",
   "name": "R",
   "pygments_lexer": "r",
   "version": "4.1.1"
  }
 },
 "nbformat": 4,
 "nbformat_minor": 5
}
